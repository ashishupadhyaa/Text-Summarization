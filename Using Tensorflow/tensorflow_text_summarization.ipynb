{
  "nbformat": 4,
  "nbformat_minor": 0,
  "metadata": {
    "accelerator": "GPU",
    "colab": {
      "name": "tensorflow_text_summarization.ipynb",
      "provenance": [],
      "collapsed_sections": []
    },
    "kernelspec": {
      "display_name": "Python 3",
      "name": "python3"
    },
    "widgets": {
      "application/vnd.jupyter.widget-state+json": {
        "e4eb5953517142e2a7951f2fc8c94f25": {
          "model_module": "@jupyter-widgets/controls",
          "model_name": "HBoxModel",
          "state": {
            "_view_name": "HBoxView",
            "_dom_classes": [],
            "_model_name": "HBoxModel",
            "_view_module": "@jupyter-widgets/controls",
            "_model_module_version": "1.5.0",
            "_view_count": null,
            "_view_module_version": "1.5.0",
            "box_style": "",
            "layout": "IPY_MODEL_2f8ce776d45047a5a6fe136ffe72d39e",
            "_model_module": "@jupyter-widgets/controls",
            "children": [
              "IPY_MODEL_21671e3670f24cf4859217f9bd6cedae",
              "IPY_MODEL_9fca6de60ba04ad19453106e30263f55"
            ]
          }
        },
        "2f8ce776d45047a5a6fe136ffe72d39e": {
          "model_module": "@jupyter-widgets/base",
          "model_name": "LayoutModel",
          "state": {
            "_view_name": "LayoutView",
            "grid_template_rows": null,
            "right": null,
            "justify_content": null,
            "_view_module": "@jupyter-widgets/base",
            "overflow": null,
            "_model_module_version": "1.2.0",
            "_view_count": null,
            "flex_flow": null,
            "width": null,
            "min_width": null,
            "border": null,
            "align_items": null,
            "bottom": null,
            "_model_module": "@jupyter-widgets/base",
            "top": null,
            "grid_column": null,
            "overflow_y": null,
            "overflow_x": null,
            "grid_auto_flow": null,
            "grid_area": null,
            "grid_template_columns": null,
            "flex": null,
            "_model_name": "LayoutModel",
            "justify_items": null,
            "grid_row": null,
            "max_height": null,
            "align_content": null,
            "visibility": null,
            "align_self": null,
            "height": null,
            "min_height": null,
            "padding": null,
            "grid_auto_rows": null,
            "grid_gap": null,
            "max_width": null,
            "order": null,
            "_view_module_version": "1.2.0",
            "grid_template_areas": null,
            "object_position": null,
            "object_fit": null,
            "grid_auto_columns": null,
            "margin": null,
            "display": null,
            "left": null
          }
        },
        "21671e3670f24cf4859217f9bd6cedae": {
          "model_module": "@jupyter-widgets/controls",
          "model_name": "FloatProgressModel",
          "state": {
            "_view_name": "ProgressView",
            "style": "IPY_MODEL_c5f7c36c652d4db6a2e8445fce1dc961",
            "_dom_classes": [],
            "description": "Dl Completed...: 100%",
            "_model_name": "FloatProgressModel",
            "bar_style": "success",
            "max": 1,
            "_view_module": "@jupyter-widgets/controls",
            "_model_module_version": "1.5.0",
            "value": 1,
            "_view_count": null,
            "_view_module_version": "1.5.0",
            "orientation": "horizontal",
            "min": 0,
            "description_tooltip": null,
            "_model_module": "@jupyter-widgets/controls",
            "layout": "IPY_MODEL_cf3076e16f79435486f47e051243ba2c"
          }
        },
        "9fca6de60ba04ad19453106e30263f55": {
          "model_module": "@jupyter-widgets/controls",
          "model_name": "HTMLModel",
          "state": {
            "_view_name": "HTMLView",
            "style": "IPY_MODEL_ecaabc6d4b1a4ec2a6b961ac7644d5d3",
            "_dom_classes": [],
            "description": "",
            "_model_name": "HTMLModel",
            "placeholder": "​",
            "_view_module": "@jupyter-widgets/controls",
            "_model_module_version": "1.5.0",
            "value": " 5/5 [01:23&lt;00:00, 16.68s/ url]",
            "_view_count": null,
            "_view_module_version": "1.5.0",
            "description_tooltip": null,
            "_model_module": "@jupyter-widgets/controls",
            "layout": "IPY_MODEL_277e667b90bf4721af95ac8bf5f56b77"
          }
        },
        "c5f7c36c652d4db6a2e8445fce1dc961": {
          "model_module": "@jupyter-widgets/controls",
          "model_name": "ProgressStyleModel",
          "state": {
            "_view_name": "StyleView",
            "_model_name": "ProgressStyleModel",
            "description_width": "initial",
            "_view_module": "@jupyter-widgets/base",
            "_model_module_version": "1.5.0",
            "_view_count": null,
            "_view_module_version": "1.2.0",
            "bar_color": null,
            "_model_module": "@jupyter-widgets/controls"
          }
        },
        "cf3076e16f79435486f47e051243ba2c": {
          "model_module": "@jupyter-widgets/base",
          "model_name": "LayoutModel",
          "state": {
            "_view_name": "LayoutView",
            "grid_template_rows": null,
            "right": null,
            "justify_content": null,
            "_view_module": "@jupyter-widgets/base",
            "overflow": null,
            "_model_module_version": "1.2.0",
            "_view_count": null,
            "flex_flow": null,
            "width": null,
            "min_width": null,
            "border": null,
            "align_items": null,
            "bottom": null,
            "_model_module": "@jupyter-widgets/base",
            "top": null,
            "grid_column": null,
            "overflow_y": null,
            "overflow_x": null,
            "grid_auto_flow": null,
            "grid_area": null,
            "grid_template_columns": null,
            "flex": null,
            "_model_name": "LayoutModel",
            "justify_items": null,
            "grid_row": null,
            "max_height": null,
            "align_content": null,
            "visibility": null,
            "align_self": null,
            "height": null,
            "min_height": null,
            "padding": null,
            "grid_auto_rows": null,
            "grid_gap": null,
            "max_width": null,
            "order": null,
            "_view_module_version": "1.2.0",
            "grid_template_areas": null,
            "object_position": null,
            "object_fit": null,
            "grid_auto_columns": null,
            "margin": null,
            "display": null,
            "left": null
          }
        },
        "ecaabc6d4b1a4ec2a6b961ac7644d5d3": {
          "model_module": "@jupyter-widgets/controls",
          "model_name": "DescriptionStyleModel",
          "state": {
            "_view_name": "StyleView",
            "_model_name": "DescriptionStyleModel",
            "description_width": "",
            "_view_module": "@jupyter-widgets/base",
            "_model_module_version": "1.5.0",
            "_view_count": null,
            "_view_module_version": "1.2.0",
            "_model_module": "@jupyter-widgets/controls"
          }
        },
        "277e667b90bf4721af95ac8bf5f56b77": {
          "model_module": "@jupyter-widgets/base",
          "model_name": "LayoutModel",
          "state": {
            "_view_name": "LayoutView",
            "grid_template_rows": null,
            "right": null,
            "justify_content": null,
            "_view_module": "@jupyter-widgets/base",
            "overflow": null,
            "_model_module_version": "1.2.0",
            "_view_count": null,
            "flex_flow": null,
            "width": null,
            "min_width": null,
            "border": null,
            "align_items": null,
            "bottom": null,
            "_model_module": "@jupyter-widgets/base",
            "top": null,
            "grid_column": null,
            "overflow_y": null,
            "overflow_x": null,
            "grid_auto_flow": null,
            "grid_area": null,
            "grid_template_columns": null,
            "flex": null,
            "_model_name": "LayoutModel",
            "justify_items": null,
            "grid_row": null,
            "max_height": null,
            "align_content": null,
            "visibility": null,
            "align_self": null,
            "height": null,
            "min_height": null,
            "padding": null,
            "grid_auto_rows": null,
            "grid_gap": null,
            "max_width": null,
            "order": null,
            "_view_module_version": "1.2.0",
            "grid_template_areas": null,
            "object_position": null,
            "object_fit": null,
            "grid_auto_columns": null,
            "margin": null,
            "display": null,
            "left": null
          }
        },
        "0acb7143b6d94383949c7cf4ad6f23dc": {
          "model_module": "@jupyter-widgets/controls",
          "model_name": "HBoxModel",
          "state": {
            "_view_name": "HBoxView",
            "_dom_classes": [],
            "_model_name": "HBoxModel",
            "_view_module": "@jupyter-widgets/controls",
            "_model_module_version": "1.5.0",
            "_view_count": null,
            "_view_module_version": "1.5.0",
            "box_style": "",
            "layout": "IPY_MODEL_5890759bc39141839da959c2d5ce20b2",
            "_model_module": "@jupyter-widgets/controls",
            "children": [
              "IPY_MODEL_8d0a8832ffde484982d7a86e1d19803d",
              "IPY_MODEL_d418319bf3484651bc6440850c1e3ba1"
            ]
          }
        },
        "5890759bc39141839da959c2d5ce20b2": {
          "model_module": "@jupyter-widgets/base",
          "model_name": "LayoutModel",
          "state": {
            "_view_name": "LayoutView",
            "grid_template_rows": null,
            "right": null,
            "justify_content": null,
            "_view_module": "@jupyter-widgets/base",
            "overflow": null,
            "_model_module_version": "1.2.0",
            "_view_count": null,
            "flex_flow": null,
            "width": null,
            "min_width": null,
            "border": null,
            "align_items": null,
            "bottom": null,
            "_model_module": "@jupyter-widgets/base",
            "top": null,
            "grid_column": null,
            "overflow_y": null,
            "overflow_x": null,
            "grid_auto_flow": null,
            "grid_area": null,
            "grid_template_columns": null,
            "flex": null,
            "_model_name": "LayoutModel",
            "justify_items": null,
            "grid_row": null,
            "max_height": null,
            "align_content": null,
            "visibility": null,
            "align_self": null,
            "height": null,
            "min_height": null,
            "padding": null,
            "grid_auto_rows": null,
            "grid_gap": null,
            "max_width": null,
            "order": null,
            "_view_module_version": "1.2.0",
            "grid_template_areas": null,
            "object_position": null,
            "object_fit": null,
            "grid_auto_columns": null,
            "margin": null,
            "display": null,
            "left": null
          }
        },
        "8d0a8832ffde484982d7a86e1d19803d": {
          "model_module": "@jupyter-widgets/controls",
          "model_name": "FloatProgressModel",
          "state": {
            "_view_name": "ProgressView",
            "style": "IPY_MODEL_9401e48a06ea48b2bfe16404b5c3c674",
            "_dom_classes": [],
            "description": "Dl Size...: ",
            "_model_name": "FloatProgressModel",
            "bar_style": "success",
            "max": 1,
            "_view_module": "@jupyter-widgets/controls",
            "_model_module_version": "1.5.0",
            "value": 1,
            "_view_count": null,
            "_view_module_version": "1.5.0",
            "orientation": "horizontal",
            "min": 0,
            "description_tooltip": null,
            "_model_module": "@jupyter-widgets/controls",
            "layout": "IPY_MODEL_3b7ad5ed97954b13b86ff5bf6c118323"
          }
        },
        "d418319bf3484651bc6440850c1e3ba1": {
          "model_module": "@jupyter-widgets/controls",
          "model_name": "HTMLModel",
          "state": {
            "_view_name": "HTMLView",
            "style": "IPY_MODEL_5f596a2be1bf459d999214ef2de3d98b",
            "_dom_classes": [],
            "description": "",
            "_model_name": "HTMLModel",
            "placeholder": "​",
            "_view_module": "@jupyter-widgets/controls",
            "_model_module_version": "1.5.0",
            "value": " 557/? [01:23&lt;00:00,  6.68 MiB/s]",
            "_view_count": null,
            "_view_module_version": "1.5.0",
            "description_tooltip": null,
            "_model_module": "@jupyter-widgets/controls",
            "layout": "IPY_MODEL_f99ba1a2cb08422696e3a0081049eada"
          }
        },
        "9401e48a06ea48b2bfe16404b5c3c674": {
          "model_module": "@jupyter-widgets/controls",
          "model_name": "ProgressStyleModel",
          "state": {
            "_view_name": "StyleView",
            "_model_name": "ProgressStyleModel",
            "description_width": "initial",
            "_view_module": "@jupyter-widgets/base",
            "_model_module_version": "1.5.0",
            "_view_count": null,
            "_view_module_version": "1.2.0",
            "bar_color": null,
            "_model_module": "@jupyter-widgets/controls"
          }
        },
        "3b7ad5ed97954b13b86ff5bf6c118323": {
          "model_module": "@jupyter-widgets/base",
          "model_name": "LayoutModel",
          "state": {
            "_view_name": "LayoutView",
            "grid_template_rows": null,
            "right": null,
            "justify_content": null,
            "_view_module": "@jupyter-widgets/base",
            "overflow": null,
            "_model_module_version": "1.2.0",
            "_view_count": null,
            "flex_flow": null,
            "width": null,
            "min_width": null,
            "border": null,
            "align_items": null,
            "bottom": null,
            "_model_module": "@jupyter-widgets/base",
            "top": null,
            "grid_column": null,
            "overflow_y": null,
            "overflow_x": null,
            "grid_auto_flow": null,
            "grid_area": null,
            "grid_template_columns": null,
            "flex": null,
            "_model_name": "LayoutModel",
            "justify_items": null,
            "grid_row": null,
            "max_height": null,
            "align_content": null,
            "visibility": null,
            "align_self": null,
            "height": null,
            "min_height": null,
            "padding": null,
            "grid_auto_rows": null,
            "grid_gap": null,
            "max_width": null,
            "order": null,
            "_view_module_version": "1.2.0",
            "grid_template_areas": null,
            "object_position": null,
            "object_fit": null,
            "grid_auto_columns": null,
            "margin": null,
            "display": null,
            "left": null
          }
        },
        "5f596a2be1bf459d999214ef2de3d98b": {
          "model_module": "@jupyter-widgets/controls",
          "model_name": "DescriptionStyleModel",
          "state": {
            "_view_name": "StyleView",
            "_model_name": "DescriptionStyleModel",
            "description_width": "",
            "_view_module": "@jupyter-widgets/base",
            "_model_module_version": "1.5.0",
            "_view_count": null,
            "_view_module_version": "1.2.0",
            "_model_module": "@jupyter-widgets/controls"
          }
        },
        "f99ba1a2cb08422696e3a0081049eada": {
          "model_module": "@jupyter-widgets/base",
          "model_name": "LayoutModel",
          "state": {
            "_view_name": "LayoutView",
            "grid_template_rows": null,
            "right": null,
            "justify_content": null,
            "_view_module": "@jupyter-widgets/base",
            "overflow": null,
            "_model_module_version": "1.2.0",
            "_view_count": null,
            "flex_flow": null,
            "width": null,
            "min_width": null,
            "border": null,
            "align_items": null,
            "bottom": null,
            "_model_module": "@jupyter-widgets/base",
            "top": null,
            "grid_column": null,
            "overflow_y": null,
            "overflow_x": null,
            "grid_auto_flow": null,
            "grid_area": null,
            "grid_template_columns": null,
            "flex": null,
            "_model_name": "LayoutModel",
            "justify_items": null,
            "grid_row": null,
            "max_height": null,
            "align_content": null,
            "visibility": null,
            "align_self": null,
            "height": null,
            "min_height": null,
            "padding": null,
            "grid_auto_rows": null,
            "grid_gap": null,
            "max_width": null,
            "order": null,
            "_view_module_version": "1.2.0",
            "grid_template_areas": null,
            "object_position": null,
            "object_fit": null,
            "grid_auto_columns": null,
            "margin": null,
            "display": null,
            "left": null
          }
        },
        "7910e76447ff443e83ee7a7ef0976f8a": {
          "model_module": "@jupyter-widgets/controls",
          "model_name": "HBoxModel",
          "state": {
            "_view_name": "HBoxView",
            "_dom_classes": [],
            "_model_name": "HBoxModel",
            "_view_module": "@jupyter-widgets/controls",
            "_model_module_version": "1.5.0",
            "_view_count": null,
            "_view_module_version": "1.5.0",
            "box_style": "",
            "layout": "IPY_MODEL_9491c10030e5427d85c057b73dacae82",
            "_model_module": "@jupyter-widgets/controls",
            "children": [
              "IPY_MODEL_948d37c163ea492894aa74b0d22b3a18",
              "IPY_MODEL_57c9cdc0b97248ce84731e92d02d0e27"
            ]
          }
        },
        "9491c10030e5427d85c057b73dacae82": {
          "model_module": "@jupyter-widgets/base",
          "model_name": "LayoutModel",
          "state": {
            "_view_name": "LayoutView",
            "grid_template_rows": null,
            "right": null,
            "justify_content": null,
            "_view_module": "@jupyter-widgets/base",
            "overflow": null,
            "_model_module_version": "1.2.0",
            "_view_count": null,
            "flex_flow": null,
            "width": null,
            "min_width": null,
            "border": null,
            "align_items": null,
            "bottom": null,
            "_model_module": "@jupyter-widgets/base",
            "top": null,
            "grid_column": null,
            "overflow_y": null,
            "overflow_x": null,
            "grid_auto_flow": null,
            "grid_area": null,
            "grid_template_columns": null,
            "flex": null,
            "_model_name": "LayoutModel",
            "justify_items": null,
            "grid_row": null,
            "max_height": null,
            "align_content": null,
            "visibility": null,
            "align_self": null,
            "height": null,
            "min_height": null,
            "padding": null,
            "grid_auto_rows": null,
            "grid_gap": null,
            "max_width": null,
            "order": null,
            "_view_module_version": "1.2.0",
            "grid_template_areas": null,
            "object_position": null,
            "object_fit": null,
            "grid_auto_columns": null,
            "margin": null,
            "display": null,
            "left": null
          }
        },
        "948d37c163ea492894aa74b0d22b3a18": {
          "model_module": "@jupyter-widgets/controls",
          "model_name": "FloatProgressModel",
          "state": {
            "_view_name": "ProgressView",
            "style": "IPY_MODEL_54f32794524d48cb8cbaefae5bc60ba4",
            "_dom_classes": [],
            "description": "Extraction completed...: 100%",
            "_model_name": "FloatProgressModel",
            "bar_style": "success",
            "max": 1,
            "_view_module": "@jupyter-widgets/controls",
            "_model_module_version": "1.5.0",
            "value": 1,
            "_view_count": null,
            "_view_module_version": "1.5.0",
            "orientation": "horizontal",
            "min": 0,
            "description_tooltip": null,
            "_model_module": "@jupyter-widgets/controls",
            "layout": "IPY_MODEL_69cceb99e8d5452c90c392306083738a"
          }
        },
        "57c9cdc0b97248ce84731e92d02d0e27": {
          "model_module": "@jupyter-widgets/controls",
          "model_name": "HTMLModel",
          "state": {
            "_view_name": "HTMLView",
            "style": "IPY_MODEL_b7961fef9f5c4876bf4b79c9c05ac3c5",
            "_dom_classes": [],
            "description": "",
            "_model_name": "HTMLModel",
            "placeholder": "​",
            "_view_module": "@jupyter-widgets/controls",
            "_model_module_version": "1.5.0",
            "value": " 2/2 [01:23&lt;00:00, 41.66s/ file]",
            "_view_count": null,
            "_view_module_version": "1.5.0",
            "description_tooltip": null,
            "_model_module": "@jupyter-widgets/controls",
            "layout": "IPY_MODEL_ca9e7803cffc497a8c33755df988f099"
          }
        },
        "54f32794524d48cb8cbaefae5bc60ba4": {
          "model_module": "@jupyter-widgets/controls",
          "model_name": "ProgressStyleModel",
          "state": {
            "_view_name": "StyleView",
            "_model_name": "ProgressStyleModel",
            "description_width": "initial",
            "_view_module": "@jupyter-widgets/base",
            "_model_module_version": "1.5.0",
            "_view_count": null,
            "_view_module_version": "1.2.0",
            "bar_color": null,
            "_model_module": "@jupyter-widgets/controls"
          }
        },
        "69cceb99e8d5452c90c392306083738a": {
          "model_module": "@jupyter-widgets/base",
          "model_name": "LayoutModel",
          "state": {
            "_view_name": "LayoutView",
            "grid_template_rows": null,
            "right": null,
            "justify_content": null,
            "_view_module": "@jupyter-widgets/base",
            "overflow": null,
            "_model_module_version": "1.2.0",
            "_view_count": null,
            "flex_flow": null,
            "width": null,
            "min_width": null,
            "border": null,
            "align_items": null,
            "bottom": null,
            "_model_module": "@jupyter-widgets/base",
            "top": null,
            "grid_column": null,
            "overflow_y": null,
            "overflow_x": null,
            "grid_auto_flow": null,
            "grid_area": null,
            "grid_template_columns": null,
            "flex": null,
            "_model_name": "LayoutModel",
            "justify_items": null,
            "grid_row": null,
            "max_height": null,
            "align_content": null,
            "visibility": null,
            "align_self": null,
            "height": null,
            "min_height": null,
            "padding": null,
            "grid_auto_rows": null,
            "grid_gap": null,
            "max_width": null,
            "order": null,
            "_view_module_version": "1.2.0",
            "grid_template_areas": null,
            "object_position": null,
            "object_fit": null,
            "grid_auto_columns": null,
            "margin": null,
            "display": null,
            "left": null
          }
        },
        "b7961fef9f5c4876bf4b79c9c05ac3c5": {
          "model_module": "@jupyter-widgets/controls",
          "model_name": "DescriptionStyleModel",
          "state": {
            "_view_name": "StyleView",
            "_model_name": "DescriptionStyleModel",
            "description_width": "",
            "_view_module": "@jupyter-widgets/base",
            "_model_module_version": "1.5.0",
            "_view_count": null,
            "_view_module_version": "1.2.0",
            "_model_module": "@jupyter-widgets/controls"
          }
        },
        "ca9e7803cffc497a8c33755df988f099": {
          "model_module": "@jupyter-widgets/base",
          "model_name": "LayoutModel",
          "state": {
            "_view_name": "LayoutView",
            "grid_template_rows": null,
            "right": null,
            "justify_content": null,
            "_view_module": "@jupyter-widgets/base",
            "overflow": null,
            "_model_module_version": "1.2.0",
            "_view_count": null,
            "flex_flow": null,
            "width": null,
            "min_width": null,
            "border": null,
            "align_items": null,
            "bottom": null,
            "_model_module": "@jupyter-widgets/base",
            "top": null,
            "grid_column": null,
            "overflow_y": null,
            "overflow_x": null,
            "grid_auto_flow": null,
            "grid_area": null,
            "grid_template_columns": null,
            "flex": null,
            "_model_name": "LayoutModel",
            "justify_items": null,
            "grid_row": null,
            "max_height": null,
            "align_content": null,
            "visibility": null,
            "align_self": null,
            "height": null,
            "min_height": null,
            "padding": null,
            "grid_auto_rows": null,
            "grid_gap": null,
            "max_width": null,
            "order": null,
            "_view_module_version": "1.2.0",
            "grid_template_areas": null,
            "object_position": null,
            "object_fit": null,
            "grid_auto_columns": null,
            "margin": null,
            "display": null,
            "left": null
          }
        },
        "8dcf3f09d2e34a1b8e77754e3b0ef2b9": {
          "model_module": "@jupyter-widgets/controls",
          "model_name": "HBoxModel",
          "state": {
            "_view_name": "HBoxView",
            "_dom_classes": [],
            "_model_name": "HBoxModel",
            "_view_module": "@jupyter-widgets/controls",
            "_model_module_version": "1.5.0",
            "_view_count": null,
            "_view_module_version": "1.5.0",
            "box_style": "",
            "layout": "IPY_MODEL_307e0477abfc499990a91b932ddcadd0",
            "_model_module": "@jupyter-widgets/controls",
            "children": [
              "IPY_MODEL_a7604d064eb74ac399880bab0e7db9a1",
              "IPY_MODEL_e3a66bf99f0841e9b44894e560d83ab0"
            ]
          }
        },
        "307e0477abfc499990a91b932ddcadd0": {
          "model_module": "@jupyter-widgets/base",
          "model_name": "LayoutModel",
          "state": {
            "_view_name": "LayoutView",
            "grid_template_rows": null,
            "right": null,
            "justify_content": null,
            "_view_module": "@jupyter-widgets/base",
            "overflow": null,
            "_model_module_version": "1.2.0",
            "_view_count": null,
            "flex_flow": null,
            "width": null,
            "min_width": null,
            "border": null,
            "align_items": null,
            "bottom": null,
            "_model_module": "@jupyter-widgets/base",
            "top": null,
            "grid_column": null,
            "overflow_y": null,
            "overflow_x": null,
            "grid_auto_flow": null,
            "grid_area": null,
            "grid_template_columns": null,
            "flex": null,
            "_model_name": "LayoutModel",
            "justify_items": null,
            "grid_row": null,
            "max_height": null,
            "align_content": null,
            "visibility": null,
            "align_self": null,
            "height": null,
            "min_height": null,
            "padding": null,
            "grid_auto_rows": null,
            "grid_gap": null,
            "max_width": null,
            "order": null,
            "_view_module_version": "1.2.0",
            "grid_template_areas": null,
            "object_position": null,
            "object_fit": null,
            "grid_auto_columns": null,
            "margin": null,
            "display": null,
            "left": null
          }
        },
        "a7604d064eb74ac399880bab0e7db9a1": {
          "model_module": "@jupyter-widgets/controls",
          "model_name": "FloatProgressModel",
          "state": {
            "_view_name": "ProgressView",
            "style": "IPY_MODEL_0dba1322ecc242e49b6b2a9ccf87e8ab",
            "_dom_classes": [],
            "description": "",
            "_model_name": "FloatProgressModel",
            "bar_style": "info",
            "max": 1,
            "_view_module": "@jupyter-widgets/controls",
            "_model_module_version": "1.5.0",
            "value": 1,
            "_view_count": null,
            "_view_module_version": "1.5.0",
            "orientation": "horizontal",
            "min": 0,
            "description_tooltip": null,
            "_model_module": "@jupyter-widgets/controls",
            "layout": "IPY_MODEL_274b3fd9a6664a59b70cc1f939d67955"
          }
        },
        "e3a66bf99f0841e9b44894e560d83ab0": {
          "model_module": "@jupyter-widgets/controls",
          "model_name": "HTMLModel",
          "state": {
            "_view_name": "HTMLView",
            "style": "IPY_MODEL_aa15b8c3f0634fa2b14c575532a10946",
            "_dom_classes": [],
            "description": "",
            "_model_name": "HTMLModel",
            "placeholder": "​",
            "_view_module": "@jupyter-widgets/controls",
            "_model_module_version": "1.5.0",
            "value": " 287113/0 [03:05&lt;00:00, 1499.70 examples/s]",
            "_view_count": null,
            "_view_module_version": "1.5.0",
            "description_tooltip": null,
            "_model_module": "@jupyter-widgets/controls",
            "layout": "IPY_MODEL_3f7bab79e650452da4fb9a98f70f7ec2"
          }
        },
        "0dba1322ecc242e49b6b2a9ccf87e8ab": {
          "model_module": "@jupyter-widgets/controls",
          "model_name": "ProgressStyleModel",
          "state": {
            "_view_name": "StyleView",
            "_model_name": "ProgressStyleModel",
            "description_width": "initial",
            "_view_module": "@jupyter-widgets/base",
            "_model_module_version": "1.5.0",
            "_view_count": null,
            "_view_module_version": "1.2.0",
            "bar_color": null,
            "_model_module": "@jupyter-widgets/controls"
          }
        },
        "274b3fd9a6664a59b70cc1f939d67955": {
          "model_module": "@jupyter-widgets/base",
          "model_name": "LayoutModel",
          "state": {
            "_view_name": "LayoutView",
            "grid_template_rows": null,
            "right": null,
            "justify_content": null,
            "_view_module": "@jupyter-widgets/base",
            "overflow": null,
            "_model_module_version": "1.2.0",
            "_view_count": null,
            "flex_flow": null,
            "width": null,
            "min_width": null,
            "border": null,
            "align_items": null,
            "bottom": null,
            "_model_module": "@jupyter-widgets/base",
            "top": null,
            "grid_column": null,
            "overflow_y": null,
            "overflow_x": null,
            "grid_auto_flow": null,
            "grid_area": null,
            "grid_template_columns": null,
            "flex": null,
            "_model_name": "LayoutModel",
            "justify_items": null,
            "grid_row": null,
            "max_height": null,
            "align_content": null,
            "visibility": null,
            "align_self": null,
            "height": null,
            "min_height": null,
            "padding": null,
            "grid_auto_rows": null,
            "grid_gap": null,
            "max_width": null,
            "order": null,
            "_view_module_version": "1.2.0",
            "grid_template_areas": null,
            "object_position": null,
            "object_fit": null,
            "grid_auto_columns": null,
            "margin": null,
            "display": null,
            "left": null
          }
        },
        "aa15b8c3f0634fa2b14c575532a10946": {
          "model_module": "@jupyter-widgets/controls",
          "model_name": "DescriptionStyleModel",
          "state": {
            "_view_name": "StyleView",
            "_model_name": "DescriptionStyleModel",
            "description_width": "",
            "_view_module": "@jupyter-widgets/base",
            "_model_module_version": "1.5.0",
            "_view_count": null,
            "_view_module_version": "1.2.0",
            "_model_module": "@jupyter-widgets/controls"
          }
        },
        "3f7bab79e650452da4fb9a98f70f7ec2": {
          "model_module": "@jupyter-widgets/base",
          "model_name": "LayoutModel",
          "state": {
            "_view_name": "LayoutView",
            "grid_template_rows": null,
            "right": null,
            "justify_content": null,
            "_view_module": "@jupyter-widgets/base",
            "overflow": null,
            "_model_module_version": "1.2.0",
            "_view_count": null,
            "flex_flow": null,
            "width": null,
            "min_width": null,
            "border": null,
            "align_items": null,
            "bottom": null,
            "_model_module": "@jupyter-widgets/base",
            "top": null,
            "grid_column": null,
            "overflow_y": null,
            "overflow_x": null,
            "grid_auto_flow": null,
            "grid_area": null,
            "grid_template_columns": null,
            "flex": null,
            "_model_name": "LayoutModel",
            "justify_items": null,
            "grid_row": null,
            "max_height": null,
            "align_content": null,
            "visibility": null,
            "align_self": null,
            "height": null,
            "min_height": null,
            "padding": null,
            "grid_auto_rows": null,
            "grid_gap": null,
            "max_width": null,
            "order": null,
            "_view_module_version": "1.2.0",
            "grid_template_areas": null,
            "object_position": null,
            "object_fit": null,
            "grid_auto_columns": null,
            "margin": null,
            "display": null,
            "left": null
          }
        },
        "1cd6db29ecb14a38ae74494a2a08845d": {
          "model_module": "@jupyter-widgets/controls",
          "model_name": "HBoxModel",
          "state": {
            "_view_name": "HBoxView",
            "_dom_classes": [],
            "_model_name": "HBoxModel",
            "_view_module": "@jupyter-widgets/controls",
            "_model_module_version": "1.5.0",
            "_view_count": null,
            "_view_module_version": "1.5.0",
            "box_style": "",
            "layout": "IPY_MODEL_cabb480913b44b009eee59e90613db9d",
            "_model_module": "@jupyter-widgets/controls",
            "children": [
              "IPY_MODEL_21018d4ec64b4f809b0c29bb66750cfa",
              "IPY_MODEL_f30843d1511c4743ad3f228e5a02195a"
            ]
          }
        },
        "cabb480913b44b009eee59e90613db9d": {
          "model_module": "@jupyter-widgets/base",
          "model_name": "LayoutModel",
          "state": {
            "_view_name": "LayoutView",
            "grid_template_rows": null,
            "right": null,
            "justify_content": null,
            "_view_module": "@jupyter-widgets/base",
            "overflow": null,
            "_model_module_version": "1.2.0",
            "_view_count": null,
            "flex_flow": null,
            "width": null,
            "min_width": null,
            "border": null,
            "align_items": null,
            "bottom": null,
            "_model_module": "@jupyter-widgets/base",
            "top": null,
            "grid_column": null,
            "overflow_y": null,
            "overflow_x": null,
            "grid_auto_flow": null,
            "grid_area": null,
            "grid_template_columns": null,
            "flex": null,
            "_model_name": "LayoutModel",
            "justify_items": null,
            "grid_row": null,
            "max_height": null,
            "align_content": null,
            "visibility": null,
            "align_self": null,
            "height": null,
            "min_height": null,
            "padding": null,
            "grid_auto_rows": null,
            "grid_gap": null,
            "max_width": null,
            "order": null,
            "_view_module_version": "1.2.0",
            "grid_template_areas": null,
            "object_position": null,
            "object_fit": null,
            "grid_auto_columns": null,
            "margin": null,
            "display": null,
            "left": null
          }
        },
        "21018d4ec64b4f809b0c29bb66750cfa": {
          "model_module": "@jupyter-widgets/controls",
          "model_name": "FloatProgressModel",
          "state": {
            "_view_name": "ProgressView",
            "style": "IPY_MODEL_808803df30394c798d6269fe1b76a173",
            "_dom_classes": [],
            "description": " 98%",
            "_model_name": "FloatProgressModel",
            "bar_style": "danger",
            "max": 287113,
            "_view_module": "@jupyter-widgets/controls",
            "_model_module_version": "1.5.0",
            "value": 281748,
            "_view_count": null,
            "_view_module_version": "1.5.0",
            "orientation": "horizontal",
            "min": 0,
            "description_tooltip": null,
            "_model_module": "@jupyter-widgets/controls",
            "layout": "IPY_MODEL_cbc9290fd0ad4332b5c95b5db78e8e74"
          }
        },
        "f30843d1511c4743ad3f228e5a02195a": {
          "model_module": "@jupyter-widgets/controls",
          "model_name": "HTMLModel",
          "state": {
            "_view_name": "HTMLView",
            "style": "IPY_MODEL_ec4bff22f73c4461bd63a00053fdf0e4",
            "_dom_classes": [],
            "description": "",
            "_model_name": "HTMLModel",
            "placeholder": "​",
            "_view_module": "@jupyter-widgets/controls",
            "_model_module_version": "1.5.0",
            "value": " 281748/287113 [00:06&lt;00:00, 49106.58 examples/s]",
            "_view_count": null,
            "_view_module_version": "1.5.0",
            "description_tooltip": null,
            "_model_module": "@jupyter-widgets/controls",
            "layout": "IPY_MODEL_0b5aca142e064f23ac22d3c1d29a6907"
          }
        },
        "808803df30394c798d6269fe1b76a173": {
          "model_module": "@jupyter-widgets/controls",
          "model_name": "ProgressStyleModel",
          "state": {
            "_view_name": "StyleView",
            "_model_name": "ProgressStyleModel",
            "description_width": "initial",
            "_view_module": "@jupyter-widgets/base",
            "_model_module_version": "1.5.0",
            "_view_count": null,
            "_view_module_version": "1.2.0",
            "bar_color": null,
            "_model_module": "@jupyter-widgets/controls"
          }
        },
        "cbc9290fd0ad4332b5c95b5db78e8e74": {
          "model_module": "@jupyter-widgets/base",
          "model_name": "LayoutModel",
          "state": {
            "_view_name": "LayoutView",
            "grid_template_rows": null,
            "right": null,
            "justify_content": null,
            "_view_module": "@jupyter-widgets/base",
            "overflow": null,
            "_model_module_version": "1.2.0",
            "_view_count": null,
            "flex_flow": null,
            "width": null,
            "min_width": null,
            "border": null,
            "align_items": null,
            "bottom": null,
            "_model_module": "@jupyter-widgets/base",
            "top": null,
            "grid_column": null,
            "overflow_y": null,
            "overflow_x": null,
            "grid_auto_flow": null,
            "grid_area": null,
            "grid_template_columns": null,
            "flex": null,
            "_model_name": "LayoutModel",
            "justify_items": null,
            "grid_row": null,
            "max_height": null,
            "align_content": null,
            "visibility": null,
            "align_self": null,
            "height": null,
            "min_height": null,
            "padding": null,
            "grid_auto_rows": null,
            "grid_gap": null,
            "max_width": null,
            "order": null,
            "_view_module_version": "1.2.0",
            "grid_template_areas": null,
            "object_position": null,
            "object_fit": null,
            "grid_auto_columns": null,
            "margin": null,
            "display": null,
            "left": null
          }
        },
        "ec4bff22f73c4461bd63a00053fdf0e4": {
          "model_module": "@jupyter-widgets/controls",
          "model_name": "DescriptionStyleModel",
          "state": {
            "_view_name": "StyleView",
            "_model_name": "DescriptionStyleModel",
            "description_width": "",
            "_view_module": "@jupyter-widgets/base",
            "_model_module_version": "1.5.0",
            "_view_count": null,
            "_view_module_version": "1.2.0",
            "_model_module": "@jupyter-widgets/controls"
          }
        },
        "0b5aca142e064f23ac22d3c1d29a6907": {
          "model_module": "@jupyter-widgets/base",
          "model_name": "LayoutModel",
          "state": {
            "_view_name": "LayoutView",
            "grid_template_rows": null,
            "right": null,
            "justify_content": null,
            "_view_module": "@jupyter-widgets/base",
            "overflow": null,
            "_model_module_version": "1.2.0",
            "_view_count": null,
            "flex_flow": null,
            "width": null,
            "min_width": null,
            "border": null,
            "align_items": null,
            "bottom": null,
            "_model_module": "@jupyter-widgets/base",
            "top": null,
            "grid_column": null,
            "overflow_y": null,
            "overflow_x": null,
            "grid_auto_flow": null,
            "grid_area": null,
            "grid_template_columns": null,
            "flex": null,
            "_model_name": "LayoutModel",
            "justify_items": null,
            "grid_row": null,
            "max_height": null,
            "align_content": null,
            "visibility": null,
            "align_self": null,
            "height": null,
            "min_height": null,
            "padding": null,
            "grid_auto_rows": null,
            "grid_gap": null,
            "max_width": null,
            "order": null,
            "_view_module_version": "1.2.0",
            "grid_template_areas": null,
            "object_position": null,
            "object_fit": null,
            "grid_auto_columns": null,
            "margin": null,
            "display": null,
            "left": null
          }
        },
        "a48ef5c7db7444feb493e6a3c0c2abbf": {
          "model_module": "@jupyter-widgets/controls",
          "model_name": "HBoxModel",
          "state": {
            "_view_name": "HBoxView",
            "_dom_classes": [],
            "_model_name": "HBoxModel",
            "_view_module": "@jupyter-widgets/controls",
            "_model_module_version": "1.5.0",
            "_view_count": null,
            "_view_module_version": "1.5.0",
            "box_style": "",
            "layout": "IPY_MODEL_1dca6f72474c487d87f10be20e5e695b",
            "_model_module": "@jupyter-widgets/controls",
            "children": [
              "IPY_MODEL_4c1b1e4fb04848a2915284a2da6d333f",
              "IPY_MODEL_cf607f8a217d46aa98402ce46251fe99"
            ]
          }
        },
        "1dca6f72474c487d87f10be20e5e695b": {
          "model_module": "@jupyter-widgets/base",
          "model_name": "LayoutModel",
          "state": {
            "_view_name": "LayoutView",
            "grid_template_rows": null,
            "right": null,
            "justify_content": null,
            "_view_module": "@jupyter-widgets/base",
            "overflow": null,
            "_model_module_version": "1.2.0",
            "_view_count": null,
            "flex_flow": null,
            "width": null,
            "min_width": null,
            "border": null,
            "align_items": null,
            "bottom": null,
            "_model_module": "@jupyter-widgets/base",
            "top": null,
            "grid_column": null,
            "overflow_y": null,
            "overflow_x": null,
            "grid_auto_flow": null,
            "grid_area": null,
            "grid_template_columns": null,
            "flex": null,
            "_model_name": "LayoutModel",
            "justify_items": null,
            "grid_row": null,
            "max_height": null,
            "align_content": null,
            "visibility": null,
            "align_self": null,
            "height": null,
            "min_height": null,
            "padding": null,
            "grid_auto_rows": null,
            "grid_gap": null,
            "max_width": null,
            "order": null,
            "_view_module_version": "1.2.0",
            "grid_template_areas": null,
            "object_position": null,
            "object_fit": null,
            "grid_auto_columns": null,
            "margin": null,
            "display": null,
            "left": null
          }
        },
        "4c1b1e4fb04848a2915284a2da6d333f": {
          "model_module": "@jupyter-widgets/controls",
          "model_name": "FloatProgressModel",
          "state": {
            "_view_name": "ProgressView",
            "style": "IPY_MODEL_ba3cd8978e9f4d789ce0b270e8dae684",
            "_dom_classes": [],
            "description": "",
            "_model_name": "FloatProgressModel",
            "bar_style": "info",
            "max": 1,
            "_view_module": "@jupyter-widgets/controls",
            "_model_module_version": "1.5.0",
            "value": 1,
            "_view_count": null,
            "_view_module_version": "1.5.0",
            "orientation": "horizontal",
            "min": 0,
            "description_tooltip": null,
            "_model_module": "@jupyter-widgets/controls",
            "layout": "IPY_MODEL_cab7816a559f4f91b48a2c426d1ef188"
          }
        },
        "cf607f8a217d46aa98402ce46251fe99": {
          "model_module": "@jupyter-widgets/controls",
          "model_name": "HTMLModel",
          "state": {
            "_view_name": "HTMLView",
            "style": "IPY_MODEL_9b9952ae6ba541cdab223f9fb2e70b3f",
            "_dom_classes": [],
            "description": "",
            "_model_name": "HTMLModel",
            "placeholder": "​",
            "_view_module": "@jupyter-widgets/controls",
            "_model_module_version": "1.5.0",
            "value": " 13368/0 [00:07&lt;00:00, 1724.07 examples/s]",
            "_view_count": null,
            "_view_module_version": "1.5.0",
            "description_tooltip": null,
            "_model_module": "@jupyter-widgets/controls",
            "layout": "IPY_MODEL_41f8f7028c864cb2a364b92bd26e869e"
          }
        },
        "ba3cd8978e9f4d789ce0b270e8dae684": {
          "model_module": "@jupyter-widgets/controls",
          "model_name": "ProgressStyleModel",
          "state": {
            "_view_name": "StyleView",
            "_model_name": "ProgressStyleModel",
            "description_width": "initial",
            "_view_module": "@jupyter-widgets/base",
            "_model_module_version": "1.5.0",
            "_view_count": null,
            "_view_module_version": "1.2.0",
            "bar_color": null,
            "_model_module": "@jupyter-widgets/controls"
          }
        },
        "cab7816a559f4f91b48a2c426d1ef188": {
          "model_module": "@jupyter-widgets/base",
          "model_name": "LayoutModel",
          "state": {
            "_view_name": "LayoutView",
            "grid_template_rows": null,
            "right": null,
            "justify_content": null,
            "_view_module": "@jupyter-widgets/base",
            "overflow": null,
            "_model_module_version": "1.2.0",
            "_view_count": null,
            "flex_flow": null,
            "width": null,
            "min_width": null,
            "border": null,
            "align_items": null,
            "bottom": null,
            "_model_module": "@jupyter-widgets/base",
            "top": null,
            "grid_column": null,
            "overflow_y": null,
            "overflow_x": null,
            "grid_auto_flow": null,
            "grid_area": null,
            "grid_template_columns": null,
            "flex": null,
            "_model_name": "LayoutModel",
            "justify_items": null,
            "grid_row": null,
            "max_height": null,
            "align_content": null,
            "visibility": null,
            "align_self": null,
            "height": null,
            "min_height": null,
            "padding": null,
            "grid_auto_rows": null,
            "grid_gap": null,
            "max_width": null,
            "order": null,
            "_view_module_version": "1.2.0",
            "grid_template_areas": null,
            "object_position": null,
            "object_fit": null,
            "grid_auto_columns": null,
            "margin": null,
            "display": null,
            "left": null
          }
        },
        "9b9952ae6ba541cdab223f9fb2e70b3f": {
          "model_module": "@jupyter-widgets/controls",
          "model_name": "DescriptionStyleModel",
          "state": {
            "_view_name": "StyleView",
            "_model_name": "DescriptionStyleModel",
            "description_width": "",
            "_view_module": "@jupyter-widgets/base",
            "_model_module_version": "1.5.0",
            "_view_count": null,
            "_view_module_version": "1.2.0",
            "_model_module": "@jupyter-widgets/controls"
          }
        },
        "41f8f7028c864cb2a364b92bd26e869e": {
          "model_module": "@jupyter-widgets/base",
          "model_name": "LayoutModel",
          "state": {
            "_view_name": "LayoutView",
            "grid_template_rows": null,
            "right": null,
            "justify_content": null,
            "_view_module": "@jupyter-widgets/base",
            "overflow": null,
            "_model_module_version": "1.2.0",
            "_view_count": null,
            "flex_flow": null,
            "width": null,
            "min_width": null,
            "border": null,
            "align_items": null,
            "bottom": null,
            "_model_module": "@jupyter-widgets/base",
            "top": null,
            "grid_column": null,
            "overflow_y": null,
            "overflow_x": null,
            "grid_auto_flow": null,
            "grid_area": null,
            "grid_template_columns": null,
            "flex": null,
            "_model_name": "LayoutModel",
            "justify_items": null,
            "grid_row": null,
            "max_height": null,
            "align_content": null,
            "visibility": null,
            "align_self": null,
            "height": null,
            "min_height": null,
            "padding": null,
            "grid_auto_rows": null,
            "grid_gap": null,
            "max_width": null,
            "order": null,
            "_view_module_version": "1.2.0",
            "grid_template_areas": null,
            "object_position": null,
            "object_fit": null,
            "grid_auto_columns": null,
            "margin": null,
            "display": null,
            "left": null
          }
        },
        "eb8770a9381d48a28c5c7c88d02b1f21": {
          "model_module": "@jupyter-widgets/controls",
          "model_name": "HBoxModel",
          "state": {
            "_view_name": "HBoxView",
            "_dom_classes": [],
            "_model_name": "HBoxModel",
            "_view_module": "@jupyter-widgets/controls",
            "_model_module_version": "1.5.0",
            "_view_count": null,
            "_view_module_version": "1.5.0",
            "box_style": "",
            "layout": "IPY_MODEL_d27b4e16804e438d8ff0d8a1193c20f9",
            "_model_module": "@jupyter-widgets/controls",
            "children": [
              "IPY_MODEL_6ed24bda6eab4cc0abaf4e5ee9e94352",
              "IPY_MODEL_0f2cca68ad3745048db65443b70be8d0"
            ]
          }
        },
        "d27b4e16804e438d8ff0d8a1193c20f9": {
          "model_module": "@jupyter-widgets/base",
          "model_name": "LayoutModel",
          "state": {
            "_view_name": "LayoutView",
            "grid_template_rows": null,
            "right": null,
            "justify_content": null,
            "_view_module": "@jupyter-widgets/base",
            "overflow": null,
            "_model_module_version": "1.2.0",
            "_view_count": null,
            "flex_flow": null,
            "width": null,
            "min_width": null,
            "border": null,
            "align_items": null,
            "bottom": null,
            "_model_module": "@jupyter-widgets/base",
            "top": null,
            "grid_column": null,
            "overflow_y": null,
            "overflow_x": null,
            "grid_auto_flow": null,
            "grid_area": null,
            "grid_template_columns": null,
            "flex": null,
            "_model_name": "LayoutModel",
            "justify_items": null,
            "grid_row": null,
            "max_height": null,
            "align_content": null,
            "visibility": null,
            "align_self": null,
            "height": null,
            "min_height": null,
            "padding": null,
            "grid_auto_rows": null,
            "grid_gap": null,
            "max_width": null,
            "order": null,
            "_view_module_version": "1.2.0",
            "grid_template_areas": null,
            "object_position": null,
            "object_fit": null,
            "grid_auto_columns": null,
            "margin": null,
            "display": null,
            "left": null
          }
        },
        "6ed24bda6eab4cc0abaf4e5ee9e94352": {
          "model_module": "@jupyter-widgets/controls",
          "model_name": "FloatProgressModel",
          "state": {
            "_view_name": "ProgressView",
            "style": "IPY_MODEL_12ea680ca8d946e59352679c0491842c",
            "_dom_classes": [],
            "description": " 66%",
            "_model_name": "FloatProgressModel",
            "bar_style": "danger",
            "max": 13368,
            "_view_module": "@jupyter-widgets/controls",
            "_model_module_version": "1.5.0",
            "value": 8775,
            "_view_count": null,
            "_view_module_version": "1.5.0",
            "orientation": "horizontal",
            "min": 0,
            "description_tooltip": null,
            "_model_module": "@jupyter-widgets/controls",
            "layout": "IPY_MODEL_58314f9144e241599b08205578c9ddd7"
          }
        },
        "0f2cca68ad3745048db65443b70be8d0": {
          "model_module": "@jupyter-widgets/controls",
          "model_name": "HTMLModel",
          "state": {
            "_view_name": "HTMLView",
            "style": "IPY_MODEL_891568ceacae473f85ab4aaa43fb4caa",
            "_dom_classes": [],
            "description": "",
            "_model_name": "HTMLModel",
            "placeholder": "​",
            "_view_module": "@jupyter-widgets/controls",
            "_model_module_version": "1.5.0",
            "value": " 8775/13368 [00:00&lt;00:00, 87744.64 examples/s]",
            "_view_count": null,
            "_view_module_version": "1.5.0",
            "description_tooltip": null,
            "_model_module": "@jupyter-widgets/controls",
            "layout": "IPY_MODEL_7d1c3b25d0bc484799cc7d5baf9c29a7"
          }
        },
        "12ea680ca8d946e59352679c0491842c": {
          "model_module": "@jupyter-widgets/controls",
          "model_name": "ProgressStyleModel",
          "state": {
            "_view_name": "StyleView",
            "_model_name": "ProgressStyleModel",
            "description_width": "initial",
            "_view_module": "@jupyter-widgets/base",
            "_model_module_version": "1.5.0",
            "_view_count": null,
            "_view_module_version": "1.2.0",
            "bar_color": null,
            "_model_module": "@jupyter-widgets/controls"
          }
        },
        "58314f9144e241599b08205578c9ddd7": {
          "model_module": "@jupyter-widgets/base",
          "model_name": "LayoutModel",
          "state": {
            "_view_name": "LayoutView",
            "grid_template_rows": null,
            "right": null,
            "justify_content": null,
            "_view_module": "@jupyter-widgets/base",
            "overflow": null,
            "_model_module_version": "1.2.0",
            "_view_count": null,
            "flex_flow": null,
            "width": null,
            "min_width": null,
            "border": null,
            "align_items": null,
            "bottom": null,
            "_model_module": "@jupyter-widgets/base",
            "top": null,
            "grid_column": null,
            "overflow_y": null,
            "overflow_x": null,
            "grid_auto_flow": null,
            "grid_area": null,
            "grid_template_columns": null,
            "flex": null,
            "_model_name": "LayoutModel",
            "justify_items": null,
            "grid_row": null,
            "max_height": null,
            "align_content": null,
            "visibility": null,
            "align_self": null,
            "height": null,
            "min_height": null,
            "padding": null,
            "grid_auto_rows": null,
            "grid_gap": null,
            "max_width": null,
            "order": null,
            "_view_module_version": "1.2.0",
            "grid_template_areas": null,
            "object_position": null,
            "object_fit": null,
            "grid_auto_columns": null,
            "margin": null,
            "display": null,
            "left": null
          }
        },
        "891568ceacae473f85ab4aaa43fb4caa": {
          "model_module": "@jupyter-widgets/controls",
          "model_name": "DescriptionStyleModel",
          "state": {
            "_view_name": "StyleView",
            "_model_name": "DescriptionStyleModel",
            "description_width": "",
            "_view_module": "@jupyter-widgets/base",
            "_model_module_version": "1.5.0",
            "_view_count": null,
            "_view_module_version": "1.2.0",
            "_model_module": "@jupyter-widgets/controls"
          }
        },
        "7d1c3b25d0bc484799cc7d5baf9c29a7": {
          "model_module": "@jupyter-widgets/base",
          "model_name": "LayoutModel",
          "state": {
            "_view_name": "LayoutView",
            "grid_template_rows": null,
            "right": null,
            "justify_content": null,
            "_view_module": "@jupyter-widgets/base",
            "overflow": null,
            "_model_module_version": "1.2.0",
            "_view_count": null,
            "flex_flow": null,
            "width": null,
            "min_width": null,
            "border": null,
            "align_items": null,
            "bottom": null,
            "_model_module": "@jupyter-widgets/base",
            "top": null,
            "grid_column": null,
            "overflow_y": null,
            "overflow_x": null,
            "grid_auto_flow": null,
            "grid_area": null,
            "grid_template_columns": null,
            "flex": null,
            "_model_name": "LayoutModel",
            "justify_items": null,
            "grid_row": null,
            "max_height": null,
            "align_content": null,
            "visibility": null,
            "align_self": null,
            "height": null,
            "min_height": null,
            "padding": null,
            "grid_auto_rows": null,
            "grid_gap": null,
            "max_width": null,
            "order": null,
            "_view_module_version": "1.2.0",
            "grid_template_areas": null,
            "object_position": null,
            "object_fit": null,
            "grid_auto_columns": null,
            "margin": null,
            "display": null,
            "left": null
          }
        },
        "93b4231b9c3a4b46abeac1eab558e9b7": {
          "model_module": "@jupyter-widgets/controls",
          "model_name": "HBoxModel",
          "state": {
            "_view_name": "HBoxView",
            "_dom_classes": [],
            "_model_name": "HBoxModel",
            "_view_module": "@jupyter-widgets/controls",
            "_model_module_version": "1.5.0",
            "_view_count": null,
            "_view_module_version": "1.5.0",
            "box_style": "",
            "layout": "IPY_MODEL_38b1e5412c2d4dc79c9c47c92c049695",
            "_model_module": "@jupyter-widgets/controls",
            "children": [
              "IPY_MODEL_ac3b6ae8cfc4495684f88e764f6c47d4",
              "IPY_MODEL_f276e3707b8e48318602992f63a54133"
            ]
          }
        },
        "38b1e5412c2d4dc79c9c47c92c049695": {
          "model_module": "@jupyter-widgets/base",
          "model_name": "LayoutModel",
          "state": {
            "_view_name": "LayoutView",
            "grid_template_rows": null,
            "right": null,
            "justify_content": null,
            "_view_module": "@jupyter-widgets/base",
            "overflow": null,
            "_model_module_version": "1.2.0",
            "_view_count": null,
            "flex_flow": null,
            "width": null,
            "min_width": null,
            "border": null,
            "align_items": null,
            "bottom": null,
            "_model_module": "@jupyter-widgets/base",
            "top": null,
            "grid_column": null,
            "overflow_y": null,
            "overflow_x": null,
            "grid_auto_flow": null,
            "grid_area": null,
            "grid_template_columns": null,
            "flex": null,
            "_model_name": "LayoutModel",
            "justify_items": null,
            "grid_row": null,
            "max_height": null,
            "align_content": null,
            "visibility": null,
            "align_self": null,
            "height": null,
            "min_height": null,
            "padding": null,
            "grid_auto_rows": null,
            "grid_gap": null,
            "max_width": null,
            "order": null,
            "_view_module_version": "1.2.0",
            "grid_template_areas": null,
            "object_position": null,
            "object_fit": null,
            "grid_auto_columns": null,
            "margin": null,
            "display": null,
            "left": null
          }
        },
        "ac3b6ae8cfc4495684f88e764f6c47d4": {
          "model_module": "@jupyter-widgets/controls",
          "model_name": "FloatProgressModel",
          "state": {
            "_view_name": "ProgressView",
            "style": "IPY_MODEL_4227cc5ddf024af293200cbe8823b98b",
            "_dom_classes": [],
            "description": "",
            "_model_name": "FloatProgressModel",
            "bar_style": "info",
            "max": 1,
            "_view_module": "@jupyter-widgets/controls",
            "_model_module_version": "1.5.0",
            "value": 1,
            "_view_count": null,
            "_view_module_version": "1.5.0",
            "orientation": "horizontal",
            "min": 0,
            "description_tooltip": null,
            "_model_module": "@jupyter-widgets/controls",
            "layout": "IPY_MODEL_9c5da02741f94d8cbada57623672662e"
          }
        },
        "f276e3707b8e48318602992f63a54133": {
          "model_module": "@jupyter-widgets/controls",
          "model_name": "HTMLModel",
          "state": {
            "_view_name": "HTMLView",
            "style": "IPY_MODEL_522045d301e04a99998ea21b104a4cee",
            "_dom_classes": [],
            "description": "",
            "_model_name": "HTMLModel",
            "placeholder": "​",
            "_view_module": "@jupyter-widgets/controls",
            "_model_module_version": "1.5.0",
            "value": " 11490/0 [00:06&lt;00:00, 1674.68 examples/s]",
            "_view_count": null,
            "_view_module_version": "1.5.0",
            "description_tooltip": null,
            "_model_module": "@jupyter-widgets/controls",
            "layout": "IPY_MODEL_f9e6aaaa8a23415cace6ac33d583f159"
          }
        },
        "4227cc5ddf024af293200cbe8823b98b": {
          "model_module": "@jupyter-widgets/controls",
          "model_name": "ProgressStyleModel",
          "state": {
            "_view_name": "StyleView",
            "_model_name": "ProgressStyleModel",
            "description_width": "initial",
            "_view_module": "@jupyter-widgets/base",
            "_model_module_version": "1.5.0",
            "_view_count": null,
            "_view_module_version": "1.2.0",
            "bar_color": null,
            "_model_module": "@jupyter-widgets/controls"
          }
        },
        "9c5da02741f94d8cbada57623672662e": {
          "model_module": "@jupyter-widgets/base",
          "model_name": "LayoutModel",
          "state": {
            "_view_name": "LayoutView",
            "grid_template_rows": null,
            "right": null,
            "justify_content": null,
            "_view_module": "@jupyter-widgets/base",
            "overflow": null,
            "_model_module_version": "1.2.0",
            "_view_count": null,
            "flex_flow": null,
            "width": null,
            "min_width": null,
            "border": null,
            "align_items": null,
            "bottom": null,
            "_model_module": "@jupyter-widgets/base",
            "top": null,
            "grid_column": null,
            "overflow_y": null,
            "overflow_x": null,
            "grid_auto_flow": null,
            "grid_area": null,
            "grid_template_columns": null,
            "flex": null,
            "_model_name": "LayoutModel",
            "justify_items": null,
            "grid_row": null,
            "max_height": null,
            "align_content": null,
            "visibility": null,
            "align_self": null,
            "height": null,
            "min_height": null,
            "padding": null,
            "grid_auto_rows": null,
            "grid_gap": null,
            "max_width": null,
            "order": null,
            "_view_module_version": "1.2.0",
            "grid_template_areas": null,
            "object_position": null,
            "object_fit": null,
            "grid_auto_columns": null,
            "margin": null,
            "display": null,
            "left": null
          }
        },
        "522045d301e04a99998ea21b104a4cee": {
          "model_module": "@jupyter-widgets/controls",
          "model_name": "DescriptionStyleModel",
          "state": {
            "_view_name": "StyleView",
            "_model_name": "DescriptionStyleModel",
            "description_width": "",
            "_view_module": "@jupyter-widgets/base",
            "_model_module_version": "1.5.0",
            "_view_count": null,
            "_view_module_version": "1.2.0",
            "_model_module": "@jupyter-widgets/controls"
          }
        },
        "f9e6aaaa8a23415cace6ac33d583f159": {
          "model_module": "@jupyter-widgets/base",
          "model_name": "LayoutModel",
          "state": {
            "_view_name": "LayoutView",
            "grid_template_rows": null,
            "right": null,
            "justify_content": null,
            "_view_module": "@jupyter-widgets/base",
            "overflow": null,
            "_model_module_version": "1.2.0",
            "_view_count": null,
            "flex_flow": null,
            "width": null,
            "min_width": null,
            "border": null,
            "align_items": null,
            "bottom": null,
            "_model_module": "@jupyter-widgets/base",
            "top": null,
            "grid_column": null,
            "overflow_y": null,
            "overflow_x": null,
            "grid_auto_flow": null,
            "grid_area": null,
            "grid_template_columns": null,
            "flex": null,
            "_model_name": "LayoutModel",
            "justify_items": null,
            "grid_row": null,
            "max_height": null,
            "align_content": null,
            "visibility": null,
            "align_self": null,
            "height": null,
            "min_height": null,
            "padding": null,
            "grid_auto_rows": null,
            "grid_gap": null,
            "max_width": null,
            "order": null,
            "_view_module_version": "1.2.0",
            "grid_template_areas": null,
            "object_position": null,
            "object_fit": null,
            "grid_auto_columns": null,
            "margin": null,
            "display": null,
            "left": null
          }
        },
        "60341b410d434afbb57b5530079141b2": {
          "model_module": "@jupyter-widgets/controls",
          "model_name": "HBoxModel",
          "state": {
            "_view_name": "HBoxView",
            "_dom_classes": [],
            "_model_name": "HBoxModel",
            "_view_module": "@jupyter-widgets/controls",
            "_model_module_version": "1.5.0",
            "_view_count": null,
            "_view_module_version": "1.5.0",
            "box_style": "",
            "layout": "IPY_MODEL_c14023f86b694de6b8f915fa58a4020d",
            "_model_module": "@jupyter-widgets/controls",
            "children": [
              "IPY_MODEL_c7b3cd325c85440ab80e6c1e4745c392",
              "IPY_MODEL_e8cb1553fc7b4ea9a8c4cf7071e6e6dd"
            ]
          }
        },
        "c14023f86b694de6b8f915fa58a4020d": {
          "model_module": "@jupyter-widgets/base",
          "model_name": "LayoutModel",
          "state": {
            "_view_name": "LayoutView",
            "grid_template_rows": null,
            "right": null,
            "justify_content": null,
            "_view_module": "@jupyter-widgets/base",
            "overflow": null,
            "_model_module_version": "1.2.0",
            "_view_count": null,
            "flex_flow": null,
            "width": null,
            "min_width": null,
            "border": null,
            "align_items": null,
            "bottom": null,
            "_model_module": "@jupyter-widgets/base",
            "top": null,
            "grid_column": null,
            "overflow_y": null,
            "overflow_x": null,
            "grid_auto_flow": null,
            "grid_area": null,
            "grid_template_columns": null,
            "flex": null,
            "_model_name": "LayoutModel",
            "justify_items": null,
            "grid_row": null,
            "max_height": null,
            "align_content": null,
            "visibility": null,
            "align_self": null,
            "height": null,
            "min_height": null,
            "padding": null,
            "grid_auto_rows": null,
            "grid_gap": null,
            "max_width": null,
            "order": null,
            "_view_module_version": "1.2.0",
            "grid_template_areas": null,
            "object_position": null,
            "object_fit": null,
            "grid_auto_columns": null,
            "margin": null,
            "display": null,
            "left": null
          }
        },
        "c7b3cd325c85440ab80e6c1e4745c392": {
          "model_module": "@jupyter-widgets/controls",
          "model_name": "FloatProgressModel",
          "state": {
            "_view_name": "ProgressView",
            "style": "IPY_MODEL_826e62ab6d8e4dd3ade745b8b988d273",
            "_dom_classes": [],
            "description": " 79%",
            "_model_name": "FloatProgressModel",
            "bar_style": "danger",
            "max": 11490,
            "_view_module": "@jupyter-widgets/controls",
            "_model_module_version": "1.5.0",
            "value": 9113,
            "_view_count": null,
            "_view_module_version": "1.5.0",
            "orientation": "horizontal",
            "min": 0,
            "description_tooltip": null,
            "_model_module": "@jupyter-widgets/controls",
            "layout": "IPY_MODEL_ff658ffc256c4866b7bafde7f7a925bc"
          }
        },
        "e8cb1553fc7b4ea9a8c4cf7071e6e6dd": {
          "model_module": "@jupyter-widgets/controls",
          "model_name": "HTMLModel",
          "state": {
            "_view_name": "HTMLView",
            "style": "IPY_MODEL_73de0ca2e2a04d008db79618fb32650f",
            "_dom_classes": [],
            "description": "",
            "_model_name": "HTMLModel",
            "placeholder": "​",
            "_view_module": "@jupyter-widgets/controls",
            "_model_module_version": "1.5.0",
            "value": " 9113/11490 [00:00&lt;00:00, 91121.61 examples/s]",
            "_view_count": null,
            "_view_module_version": "1.5.0",
            "description_tooltip": null,
            "_model_module": "@jupyter-widgets/controls",
            "layout": "IPY_MODEL_c99671230f584607abab638e26b3978c"
          }
        },
        "826e62ab6d8e4dd3ade745b8b988d273": {
          "model_module": "@jupyter-widgets/controls",
          "model_name": "ProgressStyleModel",
          "state": {
            "_view_name": "StyleView",
            "_model_name": "ProgressStyleModel",
            "description_width": "initial",
            "_view_module": "@jupyter-widgets/base",
            "_model_module_version": "1.5.0",
            "_view_count": null,
            "_view_module_version": "1.2.0",
            "bar_color": null,
            "_model_module": "@jupyter-widgets/controls"
          }
        },
        "ff658ffc256c4866b7bafde7f7a925bc": {
          "model_module": "@jupyter-widgets/base",
          "model_name": "LayoutModel",
          "state": {
            "_view_name": "LayoutView",
            "grid_template_rows": null,
            "right": null,
            "justify_content": null,
            "_view_module": "@jupyter-widgets/base",
            "overflow": null,
            "_model_module_version": "1.2.0",
            "_view_count": null,
            "flex_flow": null,
            "width": null,
            "min_width": null,
            "border": null,
            "align_items": null,
            "bottom": null,
            "_model_module": "@jupyter-widgets/base",
            "top": null,
            "grid_column": null,
            "overflow_y": null,
            "overflow_x": null,
            "grid_auto_flow": null,
            "grid_area": null,
            "grid_template_columns": null,
            "flex": null,
            "_model_name": "LayoutModel",
            "justify_items": null,
            "grid_row": null,
            "max_height": null,
            "align_content": null,
            "visibility": null,
            "align_self": null,
            "height": null,
            "min_height": null,
            "padding": null,
            "grid_auto_rows": null,
            "grid_gap": null,
            "max_width": null,
            "order": null,
            "_view_module_version": "1.2.0",
            "grid_template_areas": null,
            "object_position": null,
            "object_fit": null,
            "grid_auto_columns": null,
            "margin": null,
            "display": null,
            "left": null
          }
        },
        "73de0ca2e2a04d008db79618fb32650f": {
          "model_module": "@jupyter-widgets/controls",
          "model_name": "DescriptionStyleModel",
          "state": {
            "_view_name": "StyleView",
            "_model_name": "DescriptionStyleModel",
            "description_width": "",
            "_view_module": "@jupyter-widgets/base",
            "_model_module_version": "1.5.0",
            "_view_count": null,
            "_view_module_version": "1.2.0",
            "_model_module": "@jupyter-widgets/controls"
          }
        },
        "c99671230f584607abab638e26b3978c": {
          "model_module": "@jupyter-widgets/base",
          "model_name": "LayoutModel",
          "state": {
            "_view_name": "LayoutView",
            "grid_template_rows": null,
            "right": null,
            "justify_content": null,
            "_view_module": "@jupyter-widgets/base",
            "overflow": null,
            "_model_module_version": "1.2.0",
            "_view_count": null,
            "flex_flow": null,
            "width": null,
            "min_width": null,
            "border": null,
            "align_items": null,
            "bottom": null,
            "_model_module": "@jupyter-widgets/base",
            "top": null,
            "grid_column": null,
            "overflow_y": null,
            "overflow_x": null,
            "grid_auto_flow": null,
            "grid_area": null,
            "grid_template_columns": null,
            "flex": null,
            "_model_name": "LayoutModel",
            "justify_items": null,
            "grid_row": null,
            "max_height": null,
            "align_content": null,
            "visibility": null,
            "align_self": null,
            "height": null,
            "min_height": null,
            "padding": null,
            "grid_auto_rows": null,
            "grid_gap": null,
            "max_width": null,
            "order": null,
            "_view_module_version": "1.2.0",
            "grid_template_areas": null,
            "object_position": null,
            "object_fit": null,
            "grid_auto_columns": null,
            "margin": null,
            "display": null,
            "left": null
          }
        }
      }
    }
  },
  "cells": [
    {
      "cell_type": "code",
      "metadata": {
        "id": "eCOmAvF4VhAx"
      },
      "source": [
        "import tensorflow_datasets as tfds\n",
        "import tensorflow as tf\n",
        "import numpy as np\n",
        "import matplotlib.pyplot as plt\n",
        "import time"
      ],
      "execution_count": 1,
      "outputs": []
    },
    {
      "cell_type": "markdown",
      "metadata": {
        "id": "u1xV-xlZb-Xy"
      },
      "source": [
        "# Get Dataset"
      ]
    },
    {
      "cell_type": "code",
      "metadata": {
        "id": "30RG4-t4VxrP",
        "colab": {
          "base_uri": "https://localhost:8080/",
          "height": 450,
          "referenced_widgets": [
            "e4eb5953517142e2a7951f2fc8c94f25",
            "2f8ce776d45047a5a6fe136ffe72d39e",
            "21671e3670f24cf4859217f9bd6cedae",
            "9fca6de60ba04ad19453106e30263f55",
            "c5f7c36c652d4db6a2e8445fce1dc961",
            "cf3076e16f79435486f47e051243ba2c",
            "ecaabc6d4b1a4ec2a6b961ac7644d5d3",
            "277e667b90bf4721af95ac8bf5f56b77",
            "0acb7143b6d94383949c7cf4ad6f23dc",
            "5890759bc39141839da959c2d5ce20b2",
            "8d0a8832ffde484982d7a86e1d19803d",
            "d418319bf3484651bc6440850c1e3ba1",
            "9401e48a06ea48b2bfe16404b5c3c674",
            "3b7ad5ed97954b13b86ff5bf6c118323",
            "5f596a2be1bf459d999214ef2de3d98b",
            "f99ba1a2cb08422696e3a0081049eada",
            "7910e76447ff443e83ee7a7ef0976f8a",
            "9491c10030e5427d85c057b73dacae82",
            "948d37c163ea492894aa74b0d22b3a18",
            "57c9cdc0b97248ce84731e92d02d0e27",
            "54f32794524d48cb8cbaefae5bc60ba4",
            "69cceb99e8d5452c90c392306083738a",
            "b7961fef9f5c4876bf4b79c9c05ac3c5",
            "ca9e7803cffc497a8c33755df988f099",
            "8dcf3f09d2e34a1b8e77754e3b0ef2b9",
            "307e0477abfc499990a91b932ddcadd0",
            "a7604d064eb74ac399880bab0e7db9a1",
            "e3a66bf99f0841e9b44894e560d83ab0",
            "0dba1322ecc242e49b6b2a9ccf87e8ab",
            "274b3fd9a6664a59b70cc1f939d67955",
            "aa15b8c3f0634fa2b14c575532a10946",
            "3f7bab79e650452da4fb9a98f70f7ec2",
            "1cd6db29ecb14a38ae74494a2a08845d",
            "cabb480913b44b009eee59e90613db9d",
            "21018d4ec64b4f809b0c29bb66750cfa",
            "f30843d1511c4743ad3f228e5a02195a",
            "808803df30394c798d6269fe1b76a173",
            "cbc9290fd0ad4332b5c95b5db78e8e74",
            "ec4bff22f73c4461bd63a00053fdf0e4",
            "0b5aca142e064f23ac22d3c1d29a6907",
            "a48ef5c7db7444feb493e6a3c0c2abbf",
            "1dca6f72474c487d87f10be20e5e695b",
            "4c1b1e4fb04848a2915284a2da6d333f",
            "cf607f8a217d46aa98402ce46251fe99",
            "ba3cd8978e9f4d789ce0b270e8dae684",
            "cab7816a559f4f91b48a2c426d1ef188",
            "9b9952ae6ba541cdab223f9fb2e70b3f",
            "41f8f7028c864cb2a364b92bd26e869e",
            "eb8770a9381d48a28c5c7c88d02b1f21",
            "d27b4e16804e438d8ff0d8a1193c20f9",
            "6ed24bda6eab4cc0abaf4e5ee9e94352",
            "0f2cca68ad3745048db65443b70be8d0",
            "12ea680ca8d946e59352679c0491842c",
            "58314f9144e241599b08205578c9ddd7",
            "891568ceacae473f85ab4aaa43fb4caa",
            "7d1c3b25d0bc484799cc7d5baf9c29a7",
            "93b4231b9c3a4b46abeac1eab558e9b7",
            "38b1e5412c2d4dc79c9c47c92c049695",
            "ac3b6ae8cfc4495684f88e764f6c47d4",
            "f276e3707b8e48318602992f63a54133",
            "4227cc5ddf024af293200cbe8823b98b",
            "9c5da02741f94d8cbada57623672662e",
            "522045d301e04a99998ea21b104a4cee",
            "f9e6aaaa8a23415cace6ac33d583f159",
            "60341b410d434afbb57b5530079141b2",
            "c14023f86b694de6b8f915fa58a4020d",
            "c7b3cd325c85440ab80e6c1e4745c392",
            "e8cb1553fc7b4ea9a8c4cf7071e6e6dd",
            "826e62ab6d8e4dd3ade745b8b988d273",
            "ff658ffc256c4866b7bafde7f7a925bc",
            "73de0ca2e2a04d008db79618fb32650f",
            "c99671230f584607abab638e26b3978c"
          ]
        },
        "outputId": "635b2769-7ec1-4537-ec3d-ad8ea1d1f71b"
      },
      "source": [
        "examples, metadata = tfds.load('cnn_dailymail', with_info=True, as_supervised=True)\n",
        "train_examples, val_examples = examples['train'], examples['validation']"
      ],
      "execution_count": 2,
      "outputs": [
        {
          "output_type": "stream",
          "text": [
            "\u001b[1mDownloading and preparing dataset cnn_dailymail/plain_text/3.0.0 (download: 558.32 MiB, generated: 1.27 GiB, total: 1.82 GiB) to /root/tensorflow_datasets/cnn_dailymail/plain_text/3.0.0...\u001b[0m\n"
          ],
          "name": "stdout"
        },
        {
          "output_type": "display_data",
          "data": {
            "application/vnd.jupyter.widget-view+json": {
              "model_id": "e4eb5953517142e2a7951f2fc8c94f25",
              "version_minor": 0,
              "version_major": 2
            },
            "text/plain": [
              "HBox(children=(FloatProgress(value=1.0, bar_style='info', description='Dl Completed...', max=1.0, style=Progre…"
            ]
          },
          "metadata": {
            "tags": []
          }
        },
        {
          "output_type": "display_data",
          "data": {
            "application/vnd.jupyter.widget-view+json": {
              "model_id": "0acb7143b6d94383949c7cf4ad6f23dc",
              "version_minor": 0,
              "version_major": 2
            },
            "text/plain": [
              "HBox(children=(FloatProgress(value=1.0, bar_style='info', description='Dl Size...', max=1.0, style=ProgressSty…"
            ]
          },
          "metadata": {
            "tags": []
          }
        },
        {
          "output_type": "display_data",
          "data": {
            "application/vnd.jupyter.widget-view+json": {
              "model_id": "7910e76447ff443e83ee7a7ef0976f8a",
              "version_minor": 0,
              "version_major": 2
            },
            "text/plain": [
              "HBox(children=(FloatProgress(value=1.0, bar_style='info', description='Extraction completed...', max=1.0, styl…"
            ]
          },
          "metadata": {
            "tags": []
          }
        },
        {
          "output_type": "stream",
          "text": [
            "\n",
            "\n",
            "\n",
            "\n",
            "\n",
            "\n"
          ],
          "name": "stdout"
        },
        {
          "output_type": "display_data",
          "data": {
            "application/vnd.jupyter.widget-view+json": {
              "model_id": "8dcf3f09d2e34a1b8e77754e3b0ef2b9",
              "version_minor": 0,
              "version_major": 2
            },
            "text/plain": [
              "HBox(children=(FloatProgress(value=1.0, bar_style='info', max=1.0), HTML(value='')))"
            ]
          },
          "metadata": {
            "tags": []
          }
        },
        {
          "output_type": "stream",
          "text": [
            "\rShuffling and writing examples to /root/tensorflow_datasets/cnn_dailymail/plain_text/3.0.0.incomplete2W9GPO/cnn_dailymail-train.tfrecord\n"
          ],
          "name": "stdout"
        },
        {
          "output_type": "display_data",
          "data": {
            "application/vnd.jupyter.widget-view+json": {
              "model_id": "1cd6db29ecb14a38ae74494a2a08845d",
              "version_minor": 0,
              "version_major": 2
            },
            "text/plain": [
              "HBox(children=(FloatProgress(value=0.0, max=287113.0), HTML(value='')))"
            ]
          },
          "metadata": {
            "tags": []
          }
        },
        {
          "output_type": "stream",
          "text": [
            "\r"
          ],
          "name": "stdout"
        },
        {
          "output_type": "display_data",
          "data": {
            "application/vnd.jupyter.widget-view+json": {
              "model_id": "a48ef5c7db7444feb493e6a3c0c2abbf",
              "version_minor": 0,
              "version_major": 2
            },
            "text/plain": [
              "HBox(children=(FloatProgress(value=1.0, bar_style='info', max=1.0), HTML(value='')))"
            ]
          },
          "metadata": {
            "tags": []
          }
        },
        {
          "output_type": "stream",
          "text": [
            "\rShuffling and writing examples to /root/tensorflow_datasets/cnn_dailymail/plain_text/3.0.0.incomplete2W9GPO/cnn_dailymail-validation.tfrecord\n"
          ],
          "name": "stdout"
        },
        {
          "output_type": "display_data",
          "data": {
            "application/vnd.jupyter.widget-view+json": {
              "model_id": "eb8770a9381d48a28c5c7c88d02b1f21",
              "version_minor": 0,
              "version_major": 2
            },
            "text/plain": [
              "HBox(children=(FloatProgress(value=0.0, max=13368.0), HTML(value='')))"
            ]
          },
          "metadata": {
            "tags": []
          }
        },
        {
          "output_type": "stream",
          "text": [
            "\r"
          ],
          "name": "stdout"
        },
        {
          "output_type": "display_data",
          "data": {
            "application/vnd.jupyter.widget-view+json": {
              "model_id": "93b4231b9c3a4b46abeac1eab558e9b7",
              "version_minor": 0,
              "version_major": 2
            },
            "text/plain": [
              "HBox(children=(FloatProgress(value=1.0, bar_style='info', max=1.0), HTML(value='')))"
            ]
          },
          "metadata": {
            "tags": []
          }
        },
        {
          "output_type": "stream",
          "text": [
            "\rShuffling and writing examples to /root/tensorflow_datasets/cnn_dailymail/plain_text/3.0.0.incomplete2W9GPO/cnn_dailymail-test.tfrecord\n"
          ],
          "name": "stdout"
        },
        {
          "output_type": "display_data",
          "data": {
            "application/vnd.jupyter.widget-view+json": {
              "model_id": "60341b410d434afbb57b5530079141b2",
              "version_minor": 0,
              "version_major": 2
            },
            "text/plain": [
              "HBox(children=(FloatProgress(value=0.0, max=11490.0), HTML(value='')))"
            ]
          },
          "metadata": {
            "tags": []
          }
        },
        {
          "output_type": "stream",
          "text": [
            "WARNING:absl:Dataset is using deprecated text encoder API which will be removed soon. Please use the plain_text version of the dataset and migrate to `tensorflow_text`.\n",
            "WARNING:absl:Dataset is using deprecated text encoder API which will be removed soon. Please use the plain_text version of the dataset and migrate to `tensorflow_text`.\n"
          ],
          "name": "stderr"
        },
        {
          "output_type": "stream",
          "text": [
            "\u001b[1mDataset cnn_dailymail downloaded and prepared to /root/tensorflow_datasets/cnn_dailymail/plain_text/3.0.0. Subsequent calls will reuse this data.\u001b[0m\n",
            "\r"
          ],
          "name": "stdout"
        }
      ]
    },
    {
      "cell_type": "markdown",
      "metadata": {
        "id": "48Yb_NQKcHIg"
      },
      "source": [
        "# Subword Tokenizer"
      ]
    },
    {
      "cell_type": "code",
      "metadata": {
        "id": "2YtK66YqV4UX"
      },
      "source": [
        "# Build subword tokenizer\n",
        "# Takes a lot of time\n",
        "# tokenizer_summarize = tfds.deprecated.text.SubwordTextEncoder.build_from_corpus((art.numpy() for art, summ in train_examples), target_vocab_size=2**13)"
      ],
      "execution_count": 3,
      "outputs": []
    },
    {
      "cell_type": "code",
      "metadata": {
        "id": "yBnvn6E6M7Ld"
      },
      "source": [
        "# To save subword tokenizer in a file so that we don't need to build tokenizer from cropus always when we want to run the notebook.\n",
        "# tokenizer_summarize.save_to_file('summarize')\n",
        "\n",
        "# To load subword tokenizer from saved file\n",
        "tokenizer_summarize = tfds.deprecated.text.SubwordTextEncoder.load_from_file('summarize')"
      ],
      "execution_count": 5,
      "outputs": []
    },
    {
      "cell_type": "markdown",
      "metadata": {
        "id": "ePJn15RkcNcT"
      },
      "source": [
        "## Encoding The Data"
      ]
    },
    {
      "cell_type": "code",
      "metadata": {
        "id": "NsCudBubX-YN"
      },
      "source": [
        "def encode(art, summ):\n",
        "  art = [tokenizer_summarize.vocab_size] + tokenizer_summarize.encode(\n",
        "      art.numpy()) + [tokenizer_summarize.vocab_size+1]\n",
        "\n",
        "  summ = [tokenizer_summarize.vocab_size] + tokenizer_summarize.encode(\n",
        "      summ.numpy()) + [tokenizer_summarize.vocab_size+1]\n",
        "\n",
        "  return art, summ"
      ],
      "execution_count": 6,
      "outputs": []
    },
    {
      "cell_type": "code",
      "metadata": {
        "id": "iZi1oponYuE9"
      },
      "source": [
        "BUFFER_SIZE = 20000\n",
        "# BATCH_SIZE = 8 # As i don't have much resources so i picked batch_size as 8 you can pick batch_size = 64 if you have enough resources"
      ],
      "execution_count": 7,
      "outputs": []
    },
    {
      "cell_type": "code",
      "metadata": {
        "id": "zymOntXdYwT4"
      },
      "source": [
        "def tf_encode(art, summ):\n",
        "  result_art, result_summ = tf.py_function(encode, [art, summ], [tf.int64, tf.int64])\n",
        "  result_art.set_shape([None])\n",
        "  result_summ.set_shape([None])\n",
        "\n",
        "  return result_art, result_summ"
      ],
      "execution_count": 8,
      "outputs": []
    },
    {
      "cell_type": "markdown",
      "metadata": {
        "id": "WDAnl3O1cS-7"
      },
      "source": [
        "### Filter-out the dataset according to the length of dataset."
      ]
    },
    {
      "cell_type": "code",
      "metadata": {
        "id": "VpcSgop_Z_ce"
      },
      "source": [
        "MAX_LENGTH = 1024 # As i don't have enough resources i picked max_length=1024 but you can pick max_length=2048 if you have enough resources"
      ],
      "execution_count": 42,
      "outputs": []
    },
    {
      "cell_type": "code",
      "metadata": {
        "id": "Mg8NiDV2aiDm"
      },
      "source": [
        "def filter_max_length(x, y, max_length=MAX_LENGTH):\n",
        "  return tf.logical_and(tf.size(x) <= max_length, tf.size(y) <= max_length)"
      ],
      "execution_count": 10,
      "outputs": []
    },
    {
      "cell_type": "code",
      "metadata": {
        "id": "vfAGIoNT50f7"
      },
      "source": [
        "boundaries = [128, 256,  512, 1024]\n",
        "batch_size = [16,    8,    4,    2, 1]"
      ],
      "execution_count": 11,
      "outputs": []
    },
    {
      "cell_type": "code",
      "metadata": {
        "id": "g-xz2HU22Wmg"
      },
      "source": [
        "def _element_length_fn(x, y=None):\n",
        "  return tf.shape(x)[0]"
      ],
      "execution_count": 12,
      "outputs": []
    },
    {
      "cell_type": "code",
      "metadata": {
        "id": "BzAkdJ4mbFSj"
      },
      "source": [
        "train_dataset = train_examples.map(tf_encode)\n",
        "train_dataset = train_dataset.filter(filter_max_length)\n",
        "train_dataset = train_dataset.apply(tf.data.experimental.bucket_by_sequence_length(_element_length_fn, boundaries, batch_size,\n",
        "                                                                                 drop_remainder=True))\n",
        "\n",
        "train_dataset = train_dataset.cache()\n",
        "train_dataset = train_dataset.shuffle(BUFFER_SIZE)\n",
        "train_dataset = train_dataset.prefetch(tf.data.AUTOTUNE)\n",
        "\n",
        "\n",
        "val_dataset = val_examples.map(tf_encode)\n",
        "val_dataset = val_dataset.filter(filter_max_length)\n",
        "val_dataset = val_dataset.apply(tf.data.experimental.bucket_by_sequence_length(_element_length_fn, boundaries, batch_size,\n",
        "                                                                                   drop_remainder=True))"
      ],
      "execution_count": 13,
      "outputs": []
    },
    {
      "cell_type": "code",
      "metadata": {
        "colab": {
          "base_uri": "https://localhost:8080/"
        },
        "id": "PCoOGS_1bYTn",
        "outputId": "56578949-5dc8-464c-a469-c582433b7ce8"
      },
      "source": [
        "art_batch, summ_batch = next(iter(val_dataset))\n",
        "art_batch, summ_batch"
      ],
      "execution_count": 14,
      "outputs": [
        {
          "output_type": "execute_result",
          "data": {
            "text/plain": [
              "(<tf.Tensor: shape=(2, 834), dtype=int64, numpy=\n",
              " array([[8116,   73,  767, ...,   83,  991, 8117],\n",
              "        [8116,   73,  147, ...,    0,    0,    0]])>,\n",
              " <tf.Tensor: shape=(2, 200), dtype=int64, numpy=\n",
              " array([[8116, 6029,    5, 1405, 2287,    7, 1861, 2790, 1303, 6613,    8,\n",
              "         1345,  257, 7251, 7892, 3177, 7892, 4638,  356, 7870, 4850, 7892,\n",
              "          170, 1163, 7909, 7904,  168, 5851, 7892,    7, 2280,   11, 7103,\n",
              "            9,  100,   90,  272,  356, 7870,  876, 1125,  241,  351,    4,\n",
              "         1553,    9, 1314,    7, 1384, 6921, 7892,    8,  948, 6550,  356,\n",
              "         8117,    0,    0,    0,    0,    0,    0,    0,    0,    0,    0,\n",
              "            0,    0,    0,    0,    0,    0,    0,    0,    0,    0,    0,\n",
              "            0,    0,    0,    0,    0,    0,    0,    0,    0,    0,    0,\n",
              "            0,    0,    0,    0,    0,    0,    0,    0,    0,    0,    0,\n",
              "            0,    0,    0,    0,    0,    0,    0,    0,    0,    0,    0,\n",
              "            0,    0,    0,    0,    0,    0,    0,    0,    0,    0,    0,\n",
              "            0,    0,    0,    0,    0,    0,    0,    0,    0,    0,    0,\n",
              "            0,    0,    0,    0,    0,    0,    0,    0,    0,    0,    0,\n",
              "            0,    0,    0,    0,    0,    0,    0,    0,    0,    0,    0,\n",
              "            0,    0,    0,    0,    0,    0,    0,    0,    0,    0,    0,\n",
              "            0,    0,    0,    0,    0,    0,    0,    0,    0,    0,    0,\n",
              "            0,    0,    0,    0,    0,    0,    0,    0,    0,    0,    0,\n",
              "            0,    0,    0,    0,    0,    0,    0,    0,    0,    0,    0,\n",
              "            0,    0],\n",
              "        [8116, 7933,  826, 3212, 1079, 7892, 2300,  583, 1124,    2, 2577,\n",
              "            2,   12, 2525,    6,  181, 1528,    7, 1713,   20,  640, 7905,\n",
              "         1624, 1297, 7899,    5,  199,    9,    6, 4751,  206,  785,   11,\n",
              "            1,  199,  171,    9, 3779,  356, 7870,  455, 1101,   23,   12,\n",
              "         3117,    4,  379,    9,  556, 6343, 7892, 3292, 7981,  356, 7870,\n",
              "         2070, 6274, 1437,    7, 5097,   18, 6530, 4337, 7981,  715,  686,\n",
              "         7928, 1826,  990,    2, 5467,    2, 2019, 5618, 7892,    1, 5525,\n",
              "           22,    7,   20,  411, 7905,   84, 7905,  135, 1801,    2, 1760,\n",
              "         2087,  453,    2,    8, 6653,   45, 3936,   11,  993,  356, 7870,\n",
              "          735,  592, 7892, 4030, 2290, 7928, 1826,  990, 7892,   12, 5097,\n",
              "           19,    9,    1, 4702, 3257, 7892,    8,   41,   35, 5525,   22,\n",
              "         1000,  758, 7960,    2,   51, 4360,  979,  435, 3940, 6266,  356,\n",
              "         7870, 2300,  583, 5875, 3041, 1658,  266,    1, 1376, 4929, 7892,\n",
              "           17,   90,  762,   52, 7928, 1826,  715, 7899,    5, 4797, 1127,\n",
              "         1801,    2,  901, 4027, 7957,    2, 2612,   63,   17,  110,  103,\n",
              "         5081, 3122, 7975,  356, 7870, 2300,  583, 5875, 1667,    6,  411,\n",
              "         7905,   84, 7905,  135, 4340, 1631, 3780,    9, 3295,    9, 2471,\n",
              "           52, 3714, 2653,   18, 7106, 7892,   17,   35,   13,  320, 1440,\n",
              "          356, 8117]])>)"
            ]
          },
          "metadata": {
            "tags": []
          },
          "execution_count": 14
        }
      ]
    },
    {
      "cell_type": "markdown",
      "metadata": {
        "id": "TSsQupCbb1eW"
      },
      "source": [
        "# Positional Encoding"
      ]
    },
    {
      "cell_type": "code",
      "metadata": {
        "id": "V78tqlXHbpfx"
      },
      "source": [
        "def get_angles(pos, i, d_model):\n",
        "  angle_rates = 1 / np.power(10000, (2 * (i//2)) / np.float32(d_model))\n",
        "  return pos * angle_rates"
      ],
      "execution_count": 15,
      "outputs": []
    },
    {
      "cell_type": "code",
      "metadata": {
        "id": "bwWtaTXxcd0N"
      },
      "source": [
        "def positional_encoding(position, d_model):\n",
        "  angle_rads = get_angles(np.arange(position)[:, np.newaxis], np.arange(d_model)[np.newaxis, :], d_model)\n",
        "\n",
        "  # apply sin to even indices in the array\n",
        "  angle_rads[:, 0::2] = np.sin(angle_rads[:, 0::2])\n",
        "\n",
        "  # apply cos to odd indices in the array\n",
        "  angle_rads[:, 1::2] = np.cos(angle_rads[:, 1::2])\n",
        "\n",
        "  pos_encoding = angle_rads[np.newaxis, ...]\n",
        "\n",
        "  return tf.cast(pos_encoding, dtype=tf.float32)"
      ],
      "execution_count": 16,
      "outputs": []
    },
    {
      "cell_type": "markdown",
      "metadata": {
        "id": "-cDn4EUweNUK"
      },
      "source": [
        "## Masking"
      ]
    },
    {
      "cell_type": "code",
      "metadata": {
        "id": "GWoiNmZweKHN"
      },
      "source": [
        "def create_padding_mask(seq):\n",
        "  seq = tf.cast(tf.math.equal(seq, 0), tf.float32)\n",
        "  # add extra dimensions to add the padding to the attention logits.\n",
        "  return seq[:, tf.newaxis, tf.newaxis, :]  # (batch_size, 1, 1, seq_len)"
      ],
      "execution_count": 17,
      "outputs": []
    },
    {
      "cell_type": "markdown",
      "metadata": {
        "id": "vsh7nbqdhhIS"
      },
      "source": [
        "### look ahead masking"
      ]
    },
    {
      "cell_type": "code",
      "metadata": {
        "id": "TBvS8jBIhjYJ"
      },
      "source": [
        "def create_look_ahead_mask(size):\n",
        "  mask = 1 - tf.linalg.band_part(tf.ones((size, size)), -1, 0)\n",
        "  return mask  # (seq_len, seq_len)"
      ],
      "execution_count": 18,
      "outputs": []
    },
    {
      "cell_type": "markdown",
      "metadata": {
        "id": "j_3OHcr1iwRH"
      },
      "source": [
        "# Scaled Dot Product Attention"
      ]
    },
    {
      "cell_type": "code",
      "metadata": {
        "id": "jC8kxG_Ci0v0"
      },
      "source": [
        "def scaled_dot_product_attention(q, k, v, mask):\n",
        "  \"\"\"Calculate the attention weights.\n",
        "  q, k, v must have matching leading dimensions.\n",
        "  k, v must have matching penultimate dimension, i.e.: seq_len_k = seq_len_v.\n",
        "  The mask has different shapes depending on its type(padding or look ahead) \n",
        "  but it must be broadcastable for addition.\n",
        "\n",
        "  Args:\n",
        "    q: query shape == (..., seq_len_q, depth)\n",
        "    k: key shape == (..., seq_len_k, depth)\n",
        "    v: value shape == (..., seq_len_v, depth_v)\n",
        "    mask: Float tensor with shape broadcastable \n",
        "          to (..., seq_len_q, seq_len_k). Defaults to None.\n",
        "\n",
        "  Returns:\n",
        "    output, attention_weights\n",
        "  \"\"\"\n",
        "  # multiply q and k\n",
        "  matmul_qk = tf.matmul(q, k, transpose_b=True)  # (..., seq_len_q, seq_len_k)\n",
        "\n",
        "  # scale matmul_qk\n",
        "  dk = tf.cast(tf.shape(k)[-1], tf.float32)\n",
        "  scaled_attention_logits = matmul_qk / tf.math.sqrt(dk)\n",
        "\n",
        "  # add the mask to the scaled tensor.\n",
        "  if mask is not None:\n",
        "    scaled_attention_logits += (mask * -1e9)  \n",
        "\n",
        "  # softmax is normalized on the last axis (seq_len_k) so that the scores add up to 1.\n",
        "  attention_weights = tf.nn.softmax(scaled_attention_logits, axis=-1)  # (..., seq_len_q, seq_len_k)\n",
        "\n",
        "  output = tf.matmul(attention_weights, v)  # (..., seq_len_q, depth_v)\n",
        "\n",
        "  return output, attention_weights"
      ],
      "execution_count": 19,
      "outputs": []
    },
    {
      "cell_type": "markdown",
      "metadata": {
        "id": "5gpJld9rkrEr"
      },
      "source": [
        "# Multi-Head Attention"
      ]
    },
    {
      "cell_type": "code",
      "metadata": {
        "id": "U7gUtocQkjfE"
      },
      "source": [
        "class MultiHeadAttention(tf.keras.layers.Layer):\n",
        "  def __init__(self, d_model, num_heads):\n",
        "    super(MultiHeadAttention, self).__init__()\n",
        "    self.num_heads = num_heads\n",
        "    self.d_model = d_model\n",
        "\n",
        "    assert d_model % self.num_heads == 0\n",
        "\n",
        "    self.depth = d_model // self.num_heads\n",
        "\n",
        "    self.wq = tf.keras.layers.Dense(d_model)\n",
        "    self.wk = tf.keras.layers.Dense(d_model)\n",
        "    self.wv = tf.keras.layers.Dense(d_model)\n",
        "\n",
        "    self.dense = tf.keras.layers.Dense(d_model)\n",
        "\n",
        "  def split_heads(self, x, batch_size):\n",
        "    \"\"\"\n",
        "    Split the last dimension into (num_heads, depth).\n",
        "    Transpose the result such that the shape is (batch_size, num_heads, seq_len, depth)\n",
        "    \"\"\"\n",
        "    x = tf.reshape(x, (batch_size, -1, self.num_heads, self.depth))\n",
        "    return tf.transpose(x, perm=[0, 2, 1, 3])\n",
        "\n",
        "  def call(self, v, k, q, mask):\n",
        "    batch_size = tf.shape(q)[0]\n",
        "\n",
        "    q = self.wq(q)  # (batch_size, seq_len, d_model)\n",
        "    k = self.wk(k)  # (batch_size, seq_len, d_model)\n",
        "    v = self.wv(v)  # (batch_size, seq_len, d_model)\n",
        "\n",
        "    q = self.split_heads(q, batch_size)  # (batch_size, num_heads, seq_len_q, depth)\n",
        "    k = self.split_heads(k, batch_size)  # (batch_size, num_heads, seq_len_k, depth)\n",
        "    v = self.split_heads(v, batch_size)  # (batch_size, num_heads, seq_len_v, depth)\n",
        "\n",
        "    # scaled_attention.shape == (batch_size, num_heads, seq_len_q, depth)\n",
        "    # attention_weights.shape == (batch_size, num_heads, seq_len_q, seq_len_k)\n",
        "    scaled_attention, attention_weights = scaled_dot_product_attention(q, k, v, mask)\n",
        "\n",
        "    scaled_attention = tf.transpose(scaled_attention, perm=[0, 2, 1, 3])  # (batch_size, seq_len_q, num_heads, depth)\n",
        "\n",
        "    concat_attention = tf.reshape(scaled_attention, (batch_size, -1, self.d_model))  # (batch_size, seq_len_q, d_model)\n",
        "\n",
        "    output = self.dense(concat_attention)  # (batch_size, seq_len_q, d_model)\n",
        "\n",
        "    return output, attention_weights"
      ],
      "execution_count": 20,
      "outputs": []
    },
    {
      "cell_type": "markdown",
      "metadata": {
        "id": "cSe-HZwOlYQk"
      },
      "source": [
        "### Point wise feed forward network"
      ]
    },
    {
      "cell_type": "code",
      "metadata": {
        "id": "ob-PcPd0lSpD"
      },
      "source": [
        "def point_wise_feed_forward_network(d_model, dff):\n",
        "  return tf.keras.Sequential([\n",
        "      tf.keras.layers.Dense(dff, activation='relu'),  # (batch_size, seq_len, dff)\n",
        "      tf.keras.layers.Dense(d_model)  # (batch_size, seq_len, d_model)\n",
        "  ])"
      ],
      "execution_count": 21,
      "outputs": []
    },
    {
      "cell_type": "markdown",
      "metadata": {
        "id": "jU_WVvMimECl"
      },
      "source": [
        "## Transformer"
      ]
    },
    {
      "cell_type": "markdown",
      "metadata": {
        "id": "q7vVMHqPlpxo"
      },
      "source": [
        "![transformer.png](data:image/png;base64,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)"
      ]
    },
    {
      "cell_type": "markdown",
      "metadata": {
        "id": "4E5k1FhQl_6L"
      },
      "source": [
        "# Encoder Layer"
      ]
    },
    {
      "cell_type": "code",
      "metadata": {
        "id": "Aw-XncELljY1"
      },
      "source": [
        "class EncoderLayer(tf.keras.layers.Layer):\n",
        "  def __init__(self, d_model, num_heads, dff, rate=0.1):\n",
        "    super(EncoderLayer, self).__init__()\n",
        "\n",
        "    self.mha = MultiHeadAttention(d_model, num_heads)\n",
        "    self.ffn = point_wise_feed_forward_network(d_model, dff)\n",
        "\n",
        "    self.layernorm1 = tf.keras.layers.LayerNormalization(epsilon=1e-6)\n",
        "    self.layernorm2 = tf.keras.layers.LayerNormalization(epsilon=1e-6)\n",
        "\n",
        "    self.dropout1 = tf.keras.layers.Dropout(rate)\n",
        "    self.dropout2 = tf.keras.layers.Dropout(rate)\n",
        "\n",
        "  def call(self, x, training, mask):\n",
        "\n",
        "    attn_output, _ = self.mha(x, x, x, mask)  # (batch_size, input_seq_len, d_model)\n",
        "    attn_output = self.dropout1(attn_output, training=training)\n",
        "    out1 = self.layernorm1(x + attn_output)  # (batch_size, input_seq_len, d_model)\n",
        "\n",
        "    ffn_output = self.ffn(out1)  # (batch_size, input_seq_len, d_model)\n",
        "    ffn_output = self.dropout2(ffn_output, training=training)\n",
        "    out2 = self.layernorm2(out1 + ffn_output)  # (batch_size, input_seq_len, d_model)\n",
        "\n",
        "    return out2"
      ],
      "execution_count": 22,
      "outputs": []
    },
    {
      "cell_type": "markdown",
      "metadata": {
        "id": "hOQ08CdzmPi7"
      },
      "source": [
        "# Decoder Layer"
      ]
    },
    {
      "cell_type": "code",
      "metadata": {
        "id": "6n42HRV9mMjx"
      },
      "source": [
        "class DecoderLayer(tf.keras.layers.Layer):\n",
        "  def __init__(self, d_model, num_heads, dff, rate=0.1):\n",
        "    super(DecoderLayer, self).__init__()\n",
        "\n",
        "    self.mha1 = MultiHeadAttention(d_model, num_heads)\n",
        "    self.mha2 = MultiHeadAttention(d_model, num_heads)\n",
        "\n",
        "    self.ffn = point_wise_feed_forward_network(d_model, dff)\n",
        "\n",
        "    self.layernorm1 = tf.keras.layers.LayerNormalization(epsilon=1e-6)\n",
        "    self.layernorm2 = tf.keras.layers.LayerNormalization(epsilon=1e-6)\n",
        "    self.layernorm3 = tf.keras.layers.LayerNormalization(epsilon=1e-6)\n",
        "\n",
        "    self.dropout1 = tf.keras.layers.Dropout(rate)\n",
        "    self.dropout2 = tf.keras.layers.Dropout(rate)\n",
        "    self.dropout3 = tf.keras.layers.Dropout(rate)\n",
        "\n",
        "\n",
        "  def call(self, x, enc_output, training, look_ahead_mask, padding_mask):\n",
        "    # enc_output.shape == (batch_size, input_seq_len, d_model)\n",
        "\n",
        "    attn1, attn_weights_block1 = self.mha1(x, x, x, look_ahead_mask)  # (batch_size, target_seq_len, d_model)\n",
        "    attn1 = self.dropout1(attn1, training=training)\n",
        "    out1 = self.layernorm1(attn1 + x)\n",
        "\n",
        "    attn2, attn_weights_block2 = self.mha2(\n",
        "        enc_output, enc_output, out1, padding_mask)  # (batch_size, target_seq_len, d_model)\n",
        "    attn2 = self.dropout2(attn2, training=training)\n",
        "    out2 = self.layernorm2(attn2 + out1)  # (batch_size, target_seq_len, d_model)\n",
        "\n",
        "    ffn_output = self.ffn(out2)  # (batch_size, target_seq_len, d_model)\n",
        "    ffn_output = self.dropout3(ffn_output, training=training)\n",
        "    out3 = self.layernorm3(ffn_output + out2)  # (batch_size, target_seq_len, d_model)\n",
        "\n",
        "    return out3, attn_weights_block1, attn_weights_block2"
      ],
      "execution_count": 23,
      "outputs": []
    },
    {
      "cell_type": "markdown",
      "metadata": {
        "id": "UAxX-8hNme7p"
      },
      "source": [
        "# Encoder"
      ]
    },
    {
      "cell_type": "code",
      "metadata": {
        "id": "JgvBEYVbmWat"
      },
      "source": [
        "class Encoder(tf.keras.layers.Layer):\n",
        "  def __init__(self, num_layers, d_model, num_heads, dff, input_vocab_size, maximum_position_encoding, rate=0.1):\n",
        "    super(Encoder, self).__init__()\n",
        "\n",
        "    self.d_model = d_model\n",
        "    self.num_layers = num_layers\n",
        "\n",
        "    self.embedding = tf.keras.layers.Embedding(input_vocab_size, d_model)\n",
        "    self.pos_encoding = positional_encoding(maximum_position_encoding, self.d_model)\n",
        "\n",
        "\n",
        "    self.enc_layers = [EncoderLayer(d_model, num_heads, dff, rate) for _ in range(num_layers)]\n",
        "    self.dropout = tf.keras.layers.Dropout(rate)\n",
        "\n",
        "  def call(self, x, training, mask):\n",
        "\n",
        "    seq_len = tf.shape(x)[1]\n",
        "\n",
        "    # adding embedding and position encoding.\n",
        "    x = self.embedding(x)  # (batch_size, input_seq_len, d_model)\n",
        "    x *= tf.math.sqrt(tf.cast(self.d_model, tf.float32))\n",
        "    x += self.pos_encoding[:, :seq_len, :]\n",
        "\n",
        "    x = self.dropout(x, training=training)\n",
        "\n",
        "    for i in range(self.num_layers):\n",
        "      x = self.enc_layers[i](x, training, mask)\n",
        "\n",
        "    return x  # (batch_size, input_seq_len, d_model)"
      ],
      "execution_count": 24,
      "outputs": []
    },
    {
      "cell_type": "markdown",
      "metadata": {
        "id": "tsLoWWuym1G9"
      },
      "source": [
        "# Decoder"
      ]
    },
    {
      "cell_type": "code",
      "metadata": {
        "id": "o3FCauKBmz9i"
      },
      "source": [
        "class Decoder(tf.keras.layers.Layer):\n",
        "  def __init__(self, num_layers, d_model, num_heads, dff, target_vocab_size, maximum_position_encoding, rate=0.1):\n",
        "    super(Decoder, self).__init__()\n",
        "\n",
        "    self.d_model = d_model\n",
        "    self.num_layers = num_layers\n",
        "\n",
        "    self.embedding = tf.keras.layers.Embedding(target_vocab_size, d_model)\n",
        "    self.pos_encoding = positional_encoding(maximum_position_encoding, d_model)\n",
        "\n",
        "    self.dec_layers = [DecoderLayer(d_model, num_heads, dff, rate) for _ in range(num_layers)]\n",
        "    self.dropout = tf.keras.layers.Dropout(rate)\n",
        "\n",
        "  def call(self, x, enc_output, training, look_ahead_mask, padding_mask):\n",
        "\n",
        "    seq_len = tf.shape(x)[1]\n",
        "    attention_weights = {}\n",
        "\n",
        "    x = self.embedding(x)  # (batch_size, target_seq_len, d_model)\n",
        "    x *= tf.math.sqrt(tf.cast(self.d_model, tf.float32))\n",
        "    x += self.pos_encoding[:, :seq_len, :]\n",
        "\n",
        "    x = self.dropout(x, training=training)\n",
        "\n",
        "    for i in range(self.num_layers):\n",
        "      x, block1, block2 = self.dec_layers[i](x, enc_output, training, look_ahead_mask, padding_mask)\n",
        "\n",
        "      attention_weights['decoder_layer{}_block1'.format(i+1)] = block1\n",
        "      attention_weights['decoder_layer{}_block2'.format(i+1)] = block2\n",
        "\n",
        "    # x.shape == (batch_size, target_seq_len, d_model)\n",
        "    return x, attention_weights"
      ],
      "execution_count": 25,
      "outputs": []
    },
    {
      "cell_type": "markdown",
      "metadata": {
        "id": "Ai0nTawdnKCR"
      },
      "source": [
        "# Create The Transformer"
      ]
    },
    {
      "cell_type": "code",
      "metadata": {
        "id": "4CfggPLnnHGL"
      },
      "source": [
        "class Transformer(tf.keras.Model):\n",
        "  def __init__(self, num_layers, d_model, num_heads, dff, input_vocab_size, target_vocab_size, pe_input, pe_target, rate=0.1):\n",
        "    super(Transformer, self).__init__()\n",
        "\n",
        "    self.encoder = Encoder(num_layers, d_model, num_heads, dff, input_vocab_size, pe_input, rate)\n",
        "\n",
        "    self.decoder = Decoder(num_layers, d_model, num_heads, dff, target_vocab_size, pe_target, rate)\n",
        "\n",
        "    self.final_layer = tf.keras.layers.Dense(target_vocab_size)\n",
        "\n",
        "  def call(self, inp, tar, training, enc_padding_mask, look_ahead_mask, dec_padding_mask):\n",
        "\n",
        "    enc_output = self.encoder(inp, training, enc_padding_mask)  # (batch_size, inp_seq_len, d_model)\n",
        "\n",
        "    # dec_output.shape == (batch_size, tar_seq_len, d_model)\n",
        "    dec_output, attention_weights = self.decoder(tar, enc_output, training, look_ahead_mask, dec_padding_mask)\n",
        "\n",
        "    final_output = self.final_layer(dec_output)  # (batch_size, tar_seq_len, target_vocab_size)\n",
        "\n",
        "    return final_output, attention_weights"
      ],
      "execution_count": 26,
      "outputs": []
    },
    {
      "cell_type": "markdown",
      "metadata": {
        "id": "q3u6xspsnkjI"
      },
      "source": [
        "### Hyperparameter and Optimizer"
      ]
    },
    {
      "cell_type": "code",
      "metadata": {
        "id": "6QgD9oHznfKp"
      },
      "source": [
        "num_layers = 6\n",
        "d_model = 512\n",
        "dff = 2048\n",
        "num_heads = 8\n",
        "\n",
        "vocab_size = tokenizer_summarize.vocab_size + 2\n",
        "dropout_rate = 0.1"
      ],
      "execution_count": 27,
      "outputs": []
    },
    {
      "cell_type": "code",
      "metadata": {
        "id": "l2awQijboPRs"
      },
      "source": [
        "class CustomSchedule(tf.keras.optimizers.schedules.LearningRateSchedule):\n",
        "  def __init__(self, d_model, warmup_steps=4000):\n",
        "    super(CustomSchedule, self).__init__()\n",
        "\n",
        "    self.d_model = d_model\n",
        "    self.d_model = tf.cast(self.d_model, tf.float32)\n",
        "\n",
        "    self.warmup_steps = warmup_steps\n",
        "\n",
        "  def __call__(self, step):\n",
        "    arg1 = tf.math.rsqrt(step)\n",
        "    arg2 = step * (self.warmup_steps ** -1.5)\n",
        "\n",
        "    return tf.math.rsqrt(self.d_model) * tf.math.minimum(arg1, arg2)"
      ],
      "execution_count": 28,
      "outputs": []
    },
    {
      "cell_type": "code",
      "metadata": {
        "id": "gd1tcr_2o90s"
      },
      "source": [
        "learning_rate = CustomSchedule(d_model)\n",
        "optimizer = tf.keras.optimizers.Adam(learning_rate, beta_1=0.9, beta_2=0.98, epsilon=1e-9)"
      ],
      "execution_count": 29,
      "outputs": []
    },
    {
      "cell_type": "markdown",
      "metadata": {
        "id": "yPdW20IppN1A"
      },
      "source": [
        "### Loss and metrics"
      ]
    },
    {
      "cell_type": "code",
      "metadata": {
        "id": "_8RzpUlOpKF9"
      },
      "source": [
        "loss_object = tf.keras.losses.SparseCategoricalCrossentropy(from_logits=True, reduction='none')"
      ],
      "execution_count": 30,
      "outputs": []
    },
    {
      "cell_type": "code",
      "metadata": {
        "id": "99hoE4zApYaF"
      },
      "source": [
        "def loss_function(real, pred):\n",
        "  mask = tf.math.logical_not(tf.math.equal(real, 0))\n",
        "  loss_ = loss_object(real, pred)\n",
        "\n",
        "  mask = tf.cast(mask, dtype=loss_.dtype)\n",
        "  loss_ *= mask\n",
        "\n",
        "  return tf.reduce_sum(loss_)/tf.reduce_sum(mask)\n",
        "\n",
        "\n",
        "def accuracy_function(real, pred):\n",
        "  accuracies = tf.equal(real, tf.argmax(pred, axis=2))\n",
        "\n",
        "  mask = tf.math.logical_not(tf.math.equal(real, 0))\n",
        "  accuracies = tf.math.logical_and(mask, accuracies)\n",
        "\n",
        "  accuracies = tf.cast(accuracies, dtype=tf.float32)\n",
        "  mask = tf.cast(mask, dtype=tf.float32)\n",
        "  return tf.reduce_sum(accuracies)/tf.reduce_sum(mask)"
      ],
      "execution_count": 31,
      "outputs": []
    },
    {
      "cell_type": "code",
      "metadata": {
        "id": "nlkKphghpmd9"
      },
      "source": [
        "train_loss = tf.keras.metrics.Mean(name='train_loss')\n",
        "train_accuracy = tf.keras.metrics.Mean(name='train_accuracy')"
      ],
      "execution_count": 32,
      "outputs": []
    },
    {
      "cell_type": "markdown",
      "metadata": {
        "id": "aTyidJLmp-Dz"
      },
      "source": [
        "# Training and Checkpoints"
      ]
    },
    {
      "cell_type": "code",
      "metadata": {
        "id": "SWQJBUpHp3w3"
      },
      "source": [
        "transformer = Transformer(num_layers, d_model, num_heads, dff,\n",
        "                          vocab_size, vocab_size, \n",
        "                          pe_input=vocab_size, \n",
        "                          pe_target=vocab_size,\n",
        "                          rate=dropout_rate)"
      ],
      "execution_count": 33,
      "outputs": []
    },
    {
      "cell_type": "code",
      "metadata": {
        "id": "3NW2s95AqDh9"
      },
      "source": [
        "def create_masks(inp, tar):\n",
        "  # Encoder padding mask\n",
        "  enc_padding_mask = create_padding_mask(inp)\n",
        "\n",
        "  # Used in the 2nd attention block in the decoder.\n",
        "  # This padding mask is used to mask the encoder outputs.\n",
        "  dec_padding_mask = create_padding_mask(inp)\n",
        "\n",
        "  # Used in the 1st attention block in the decoder.\n",
        "  # It is used to pad and mask future tokens in the input received by the decoder.\n",
        "  look_ahead_mask = create_look_ahead_mask(tf.shape(tar)[1])\n",
        "  dec_target_padding_mask = create_padding_mask(tar)\n",
        "  combined_mask = tf.maximum(dec_target_padding_mask, look_ahead_mask)\n",
        "\n",
        "  return enc_padding_mask, combined_mask, dec_padding_mask"
      ],
      "execution_count": 34,
      "outputs": []
    },
    {
      "cell_type": "code",
      "metadata": {
        "id": "eXksD-xtqM3l"
      },
      "source": [
        "checkpoint_path = \"./checkpoints/train\"\n",
        "\n",
        "ckpt = tf.train.Checkpoint(transformer=transformer, optimizer=optimizer)\n",
        "\n",
        "ckpt_manager = tf.train.CheckpointManager(ckpt, checkpoint_path, max_to_keep=5)\n",
        "\n",
        "# if a checkpoint exists, restore the latest checkpoint.\n",
        "if ckpt_manager.latest_checkpoint:\n",
        "  ckpt.restore(ckpt_manager.latest_checkpoint)\n",
        "  print ('Latest checkpoint restored!!')"
      ],
      "execution_count": 35,
      "outputs": []
    },
    {
      "cell_type": "code",
      "metadata": {
        "id": "47oEX0a-qYqM"
      },
      "source": [
        "EPOCHS = 1 # For better training of the model set EPOCH = 20."
      ],
      "execution_count": 36,
      "outputs": []
    },
    {
      "cell_type": "code",
      "metadata": {
        "id": "rsgIotSaqceZ"
      },
      "source": [
        "\"\"\"\n",
        "The @tf.function trace-compiles train_step into a TF graph for faster\n",
        "execution. The function specializes to the precise shape of the argument\n",
        "tensors. To avoid re-tracing due to the variable sequence lengths or variable\n",
        "batch sizes (the last batch is smaller), use input_signature to specify\n",
        "more generic shapes.\n",
        "\"\"\"\n",
        "\n",
        "train_step_signature = [\n",
        "    tf.TensorSpec(shape=(None, None), dtype=tf.int64),\n",
        "    tf.TensorSpec(shape=(None, None), dtype=tf.int64),\n",
        "]\n",
        "\n",
        "@tf.function(input_signature=train_step_signature)\n",
        "def train_step(inp, tar):\n",
        "  tar_inp = tar[:, :-1]\n",
        "  tar_real = tar[:, 1:]\n",
        "\n",
        "  enc_padding_mask, combined_mask, dec_padding_mask = create_masks(inp, tar_inp)\n",
        "\n",
        "  with tf.GradientTape() as tape:\n",
        "    predictions, _ = transformer(inp, tar_inp, True, enc_padding_mask, combined_mask, dec_padding_mask)\n",
        "    loss = loss_function(tar_real, predictions)\n",
        "\n",
        "  gradients = tape.gradient(loss, transformer.trainable_variables)    \n",
        "  optimizer.apply_gradients(zip(gradients, transformer.trainable_variables))\n",
        "\n",
        "  train_loss(loss)\n",
        "  train_accuracy(accuracy_function(tar_real, predictions))"
      ],
      "execution_count": 37,
      "outputs": []
    },
    {
      "cell_type": "code",
      "metadata": {
        "colab": {
          "base_uri": "https://localhost:8080/"
        },
        "id": "-aMJfuRYrLl5",
        "outputId": "ac52c20c-f254-4667-d6d7-a7e141d1634c"
      },
      "source": [
        "for epoch in range(EPOCHS):\n",
        "  start = time.time()\n",
        "\n",
        "  train_loss.reset_states()\n",
        "  train_accuracy.reset_states()\n",
        "\n",
        "  # inp -> articles, tar -> summary\n",
        "  for (batch, (inp, tar)) in enumerate(train_dataset):\n",
        "    train_step(inp, tar)\n",
        "\n",
        "    if batch % 50 == 0:\n",
        "      print('Epoch {} Batch {} Loss {:.4f} Accuracy {:.4f}'.format(\n",
        "          epoch + 1, batch, train_loss.result(), train_accuracy.result()))\n",
        "      \n",
        "    # For full training remove the 'if' statement typed below.\n",
        "    # I am stopping this training as 1 epoch will take approx 6 hrs to complete and take many resources but i don't have many resources.\n",
        "    if batch == 1300:\n",
        "      ckpt_save_path = ckpt_manager.save()\n",
        "      print('Saving checkpoint and stopping the training')\n",
        "      break\n",
        "\n",
        "  if (epoch + 1) % 5 == 0:\n",
        "    ckpt_save_path = ckpt_manager.save()\n",
        "    print('Saving checkpoint for epoch {} at {}'.format(epoch+1, ckpt_save_path))\n",
        "\n",
        "  \n",
        "\n",
        "  print('Epoch {} Loss {:.4f} Accuracy {:.4f}'.format(epoch + 1, train_loss.result(), train_accuracy.result()))\n",
        "  print('Time taken for 1 epoch: {} secs\\n'.format(time.time() - start))"
      ],
      "execution_count": 39,
      "outputs": [
        {
          "output_type": "stream",
          "text": [
            "Epoch 1 Batch 0 Loss 7.2697 Accuracy 0.0432\n",
            "Epoch 1 Batch 50 Loss 7.4746 Accuracy 0.0374\n",
            "Epoch 1 Batch 100 Loss 7.4420 Accuracy 0.0398\n",
            "Epoch 1 Batch 150 Loss 7.4460 Accuracy 0.0408\n",
            "Epoch 1 Batch 200 Loss 7.4468 Accuracy 0.0410\n",
            "Epoch 1 Batch 250 Loss 7.4532 Accuracy 0.0405\n",
            "Epoch 1 Batch 300 Loss 7.4476 Accuracy 0.0407\n",
            "Epoch 1 Batch 350 Loss 7.4344 Accuracy 0.0406\n",
            "Epoch 1 Batch 400 Loss 7.4364 Accuracy 0.0412\n",
            "Epoch 1 Batch 450 Loss 7.4365 Accuracy 0.0412\n",
            "Epoch 1 Batch 500 Loss 7.4368 Accuracy 0.0414\n",
            "Epoch 1 Batch 550 Loss 7.4352 Accuracy 0.0414\n",
            "Epoch 1 Batch 600 Loss 7.4344 Accuracy 0.0414\n",
            "Epoch 1 Batch 650 Loss 7.4320 Accuracy 0.0417\n",
            "Epoch 1 Batch 700 Loss 7.4320 Accuracy 0.0419\n",
            "Epoch 1 Batch 750 Loss 7.4307 Accuracy 0.0419\n",
            "Epoch 1 Batch 800 Loss 7.4322 Accuracy 0.0422\n",
            "Epoch 1 Batch 850 Loss 7.4326 Accuracy 0.0423\n",
            "Epoch 1 Batch 900 Loss 7.4324 Accuracy 0.0425\n",
            "Epoch 1 Batch 950 Loss 7.4339 Accuracy 0.0426\n",
            "Epoch 1 Batch 1000 Loss 7.4335 Accuracy 0.0426\n",
            "Epoch 1 Batch 1050 Loss 7.4330 Accuracy 0.0427\n",
            "Epoch 1 Batch 1100 Loss 7.4320 Accuracy 0.0426\n",
            "Epoch 1 Batch 1150 Loss 7.4303 Accuracy 0.0428\n",
            "Epoch 1 Batch 1200 Loss 7.4287 Accuracy 0.0427\n",
            "Epoch 1 Batch 1250 Loss 7.4278 Accuracy 0.0428\n",
            "Epoch 1 Batch 1300 Loss 7.4283 Accuracy 0.0428\n",
            "Saving checkpoint and stopping the training\n",
            "Epoch 1 Loss 7.4283 Accuracy 0.0428\n",
            "Time taken for 1 epoch: 351.6903805732727 secs\n",
            "\n"
          ],
          "name": "stdout"
        }
      ]
    },
    {
      "cell_type": "markdown",
      "metadata": {
        "id": "NSwZnOuyrmeO"
      },
      "source": [
        "# Evaluate"
      ]
    },
    {
      "cell_type": "code",
      "metadata": {
        "id": "VL6owVNxrkrm"
      },
      "source": [
        "def evaluate(inp_sentence):\n",
        "  start_token = [tokenizer_summarize.vocab_size]\n",
        "  end_token = [tokenizer_summarize.vocab_size + 1]\n",
        "\n",
        "  # inp sentence is article, hence adding the start and end token\n",
        "  inp_sentence = start_token + tokenizer_summarize.encode(inp_sentence) + end_token\n",
        "  encoder_input = tf.expand_dims(inp_sentence, 0)\n",
        "\n",
        "  # as the target is summary, the first word to the transformer should be the summary start token.\n",
        "  decoder_input = [tokenizer_summarize.vocab_size]\n",
        "  output = tf.expand_dims(decoder_input, 0)\n",
        "\n",
        "  for i in range(MAX_LENGTH):\n",
        "    enc_padding_mask, combined_mask, dec_padding_mask = create_masks(encoder_input, output)\n",
        "\n",
        "    # predictions.shape == (batch_size, seq_len, vocab_size)\n",
        "    predictions, attention_weights = transformer(encoder_input, output, False, enc_padding_mask, combined_mask, dec_padding_mask)\n",
        "\n",
        "    # select the last word from the seq_len dimension\n",
        "    predictions = predictions[: ,-1:, :]  # (batch_size, 1, vocab_size)\n",
        "\n",
        "    predicted_id = tf.cast(tf.argmax(predictions, axis=-1), tf.int32)\n",
        "\n",
        "    # return the result if the predicted_id is equal to the end token\n",
        "    if predicted_id == tokenizer_summarize.vocab_size+1:\n",
        "      return tf.squeeze(output, axis=0), attention_weights\n",
        "\n",
        "    # concatentate the predicted_id to the output which is given to the decoder\n",
        "    # as its input.\n",
        "    output = tf.concat([output, predicted_id], axis=-1)\n",
        "\n",
        "  return tf.squeeze(output, axis=0), attention_weights"
      ],
      "execution_count": 46,
      "outputs": []
    },
    {
      "cell_type": "code",
      "metadata": {
        "id": "BfnEsHZar9qZ"
      },
      "source": [
        "def translate(sentence):\n",
        "  result, attention_weights = evaluate(sentence)\n",
        "\n",
        "  predicted_sentence = tokenizer_summarize.decode([i for i in result \n",
        "                                            if i < tokenizer_summarize.vocab_size])  \n",
        "\n",
        "  print('Input: {}'.format(sentence))\n",
        "  print('Predicted translation: {}'.format(predicted_sentence))"
      ],
      "execution_count": 49,
      "outputs": []
    },
    {
      "cell_type": "code",
      "metadata": {
        "id": "zEf2PPLWsAdn",
        "colab": {
          "base_uri": "https://localhost:8080/"
        },
        "outputId": "6a6d18d9-74ab-4ed5-d2be-e60cb4a36a43"
      },
      "source": [
        "# I twill output random text as the model accuracy is 4 percent.\n",
        "translate(\"It was a sunny day when I went to the market to buy some flowers. But I only found roses, not tulips.\")"
      ],
      "execution_count": 50,
      "outputs": [
        {
          "output_type": "stream",
          "text": [
            "Input: It was a sunny day when I went to the market to buy some flowers. But I only found roses, not tulips.\n",
            "Predicted translation:  . . . . . . . . . . . . . . . . . . . . . . . . . . . . . . . . . . . . . . . . . . . . . . . . . . . . . . . . . . . . . . . . . . . . . . . . . . . . . . . . . . . . . . . . . . . . . . . . . . . . . . . . . . . . . . . . . . . . . . . . . . . . . . . . . . . . . . . . . . . . . . . . . . . . . . . . . . . . . . . . . . . . . . . . . . . . . . . . . . . . . . . . . . . . . . . . . . . . . . . . . . . . . . . . . . . . . . . . . . . . . . . . . . . . . . . . . . . . . . . . . . . . . . . . . . . . . . . . . . . . . . . . . . . . . . . . . . . . . . . . . . . . . . . . . . . . . . . . . . . . . . . . . . . . . . . . . . . . . . . . . . . . . . . . . . . . . . . . . . . . . . . . . . . . . . . . . . . . . . . . . . . . . . . . . . . . . . . . . . . . . . . . . . . . . . . . . . . . . . . . . . . . . . . . . . . . . . . . . . . . . . . . . . . . . . . . . . . . . . . . . . . . . . . . . . . . . . . . . . . . . . . . . . . . . . . . . . . . . . . . . . . . . . . . . . . . . . . . . . . . . . . . . . . . . . . . . . . . . . . . . . . . . . . . . . . . . . . . . . . . . . . . . . . . . . . . . . . . . . . . . . . . . . . . . . . . . . . . . . . . . . . . . . . . . . . . . . . . . . . . . . . . . . . . . . . . . . . . . . . . . . . . . . . . . . . . . . . . . . . . . . . . . . . . . . . . . . . . . . . . . . . . . . . . . . . . . . . . . . . . . . . . . . . . . . . . . . . . . . . . . . . . . . . . . . . . . . . . . . . . . . . . . . . . . . . . . . . . . . . . . . . . . . . . . . . . . . . . . . . . . . . . . . . . . . . . . . . . . . . . . . . . . . . . . . . . . . . . . . . . . . . . . . . . . . . . . . . . . . . . . . . . . . . . . . . . . . . . . . . . . . . . . . . . . . . . . . . . . . . . . . . . . . . . . . . . . . . . . . . . . . . . . . . . . . . . . . . . . . . . . . . . . . . . . . . . . . . . . . . . . . . . . . . . . . . . . . . . . . . . . . . . . . . . . . . . . . . . . . . . . . . . . . . . . . . . . . . . . . . . . . . . . . . . . . . . . . . . . . . . . . . . . . . . . . . . . . . . . . . . . . . .\n"
          ],
          "name": "stdout"
        }
      ]
    }
  ]
}